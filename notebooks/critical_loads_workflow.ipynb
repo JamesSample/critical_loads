{
 "cells": [
  {
   "cell_type": "code",
   "execution_count": 1,
   "metadata": {
    "collapsed": false
   },
   "outputs": [
    {
     "name": "stdout",
     "output_type": "stream",
     "text": [
      "Username: ········\n",
      "Password: ········\n",
      "Connection successful.\n"
     ]
    }
   ],
   "source": [
    "from osgeo import ogr\n",
    "from osgeo import gdal\n",
    "import numpy as np\n",
    "import pandas as pd\n",
    "import geopandas as gpd\n",
    "import critical_loads as cl\n",
    "import nivapy\n",
    "\n",
    "# Connect to db\n",
    "engine = nivapy.da.connect()"
   ]
  },
  {
   "cell_type": "markdown",
   "metadata": {},
   "source": [
    "# Critical Loads Workflow\n",
    "\n",
    "This notebook implements a new workflow for the Critical Loads processing. There are three main components: vegetation, water and soils.\n",
    "\n",
    "**Note:** In 2017, NILU switched to estimating deposition using a new method. For the period from 2012-2016, values will be calculated using both methods, and in future only the new method will be used. The data provided by NILU for the new method is in a slightly different format to what has been supplied previously. The code below is correct for the new method, but some minor modifications in section 1.1 would be required to go back to the old method.\n",
    "\n",
    "## 1. Vegetation\n",
    "\n",
    "A new raster-based workflow was developed in [this notebook](http://nbviewer.jupyter.org/github/JamesSample/critical_loads/blob/master/notebooks/critical_loads_vegetation.ipynb). The code below loops over all the datasets to create vegetation exceedance grids (in mg-N/l) for the time periods of interest.\n",
    "\n",
    "### 1.1. Upload new data to database"
   ]
  },
  {
   "cell_type": "code",
   "execution_count": 2,
   "metadata": {
    "collapsed": false
   },
   "outputs": [],
   "source": [
    "# ID for new series\n",
    "ser_id = 27\n",
    "\n",
    "# Create new series for this data period\n",
    "df = pd.DataFrame({'dep_series_id':ser_id,\n",
    "                   'name':'Middel 2012-2016 (new)',\n",
    "                   'description':'Fordelt til BLR av NILU 2017 (Wenche Aas; new method)'},\n",
    "                  index=[0,])\n",
    "\n",
    "## Add to db\n",
    "#df.to_sql('dep_series_definitions', con=engine, schema='resa2', \n",
    "#          if_exists='append', index=False)"
   ]
  },
  {
   "cell_type": "code",
   "execution_count": 3,
   "metadata": {
    "collapsed": false
   },
   "outputs": [],
   "source": [
    "# Read data\n",
    "in_xlsx = (r'C:\\Data\\James_Work\\Staff\\Kari_A\\Critical_Loads'\n",
    "           r'\\raw_data\\dep1216_til_NIVA_new_method.xlsx')\n",
    "df = pd.read_excel(in_xlsx, sheetname='niva16x16', index_col=0)\n",
    "df.index.name = 'blr'\n",
    "\n",
    "# Map headings to db par IDs\n",
    "par_dict = {'totSox':4,  # Non-marine S (I think - values are much closer to NM-S from old method than total-S)\n",
    "            'totNox':1,  # N (oks)\n",
    "            'totNhx':2}  # N (red)\n",
    "\n",
    "# Get cols and rename\n",
    "df = df[par_dict.keys()]\n",
    "df.columns = [par_dict[i] for i in df.columns]\n",
    "df.reset_index(inplace=True)\n",
    "\n",
    "# Melt \n",
    "df = pd.melt(df, var_name='parameter_id', id_vars='blr')\n",
    "\n",
    "# Add series ID\n",
    "df['dep_series_id'] = ser_id\n",
    "\n",
    "## Add to db\n",
    "#df.to_sql('dep_blr_values', con=engine, schema='resa2', \n",
    "#          if_exists='append', index=False)"
   ]
  },
  {
   "cell_type": "markdown",
   "metadata": {},
   "source": [
    "### 1.2. Read lookup table link vegetation classes to critical loads"
   ]
  },
  {
   "cell_type": "code",
   "execution_count": 4,
   "metadata": {
    "collapsed": false
   },
   "outputs": [
    {
     "data": {
      "text/html": [
       "<div>\n",
       "<table border=\"1\" class=\"dataframe\">\n",
       "  <thead>\n",
       "    <tr style=\"text-align: right;\">\n",
       "      <th></th>\n",
       "      <th>CL_100smgN/m2/yr</th>\n",
       "    </tr>\n",
       "    <tr>\n",
       "      <th>NORUTcode</th>\n",
       "      <th></th>\n",
       "    </tr>\n",
       "  </thead>\n",
       "  <tbody>\n",
       "    <tr>\n",
       "      <th>1</th>\n",
       "      <td>5</td>\n",
       "    </tr>\n",
       "    <tr>\n",
       "      <th>2</th>\n",
       "      <td>5</td>\n",
       "    </tr>\n",
       "    <tr>\n",
       "      <th>3</th>\n",
       "      <td>5</td>\n",
       "    </tr>\n",
       "    <tr>\n",
       "      <th>4</th>\n",
       "      <td>10</td>\n",
       "    </tr>\n",
       "    <tr>\n",
       "      <th>5</th>\n",
       "      <td>10</td>\n",
       "    </tr>\n",
       "  </tbody>\n",
       "</table>\n",
       "</div>"
      ],
      "text/plain": [
       "           CL_100smgN/m2/yr\n",
       "NORUTcode                  \n",
       "1                         5\n",
       "2                         5\n",
       "3                         5\n",
       "4                        10\n",
       "5                        10"
      ]
     },
     "execution_count": 4,
     "metadata": {},
     "output_type": "execute_result"
    }
   ],
   "source": [
    "# Read lookup table\n",
    "in_xlsx = (r'C:\\Data\\James_Work\\Staff\\Kari_A\\Critical_Loads\\vegetation'\n",
    "           r'\\sat_veg_land_use_classes.xlsx')\n",
    "df = pd.read_excel(in_xlsx, sheetname='EUNIS_tilGIS', index_col=0)\n",
    "\n",
    "df = df[['CL_100smgN/m2/yr']].round(0).astype(int)\n",
    "\n",
    "df.head()"
   ]
  },
  {
   "cell_type": "markdown",
   "metadata": {},
   "source": [
    "### 1.3. Reclassify"
   ]
  },
  {
   "cell_type": "code",
   "execution_count": 5,
   "metadata": {
    "collapsed": true
   },
   "outputs": [],
   "source": [
    "## Input national veg map\n",
    "#in_tif = (r'C:\\Data\\James_Work\\Staff\\Kari_A\\Critical_Loads'\n",
    "#          r'\\GIS\\Raster\\sat_veg_30m_all.tif')\n",
    "#\n",
    "## Output geotiff for critical loads values\n",
    "#out_tif = (r'C:\\Data\\James_Work\\Staff\\Kari_A\\Critical_Loads'\n",
    "#           r'\\GIS\\Raster\\sat_veg_30m_cr_lds_div100.tif')\n",
    "#\n",
    "## Mask raster for land defined by BLR\n",
    "#mask_tif = (r'C:\\Data\\James_Work\\Staff\\Kari_A\\Critical_Loads'\n",
    "#            r'\\GIS\\Raster\\blr_land_mask.tif')\n",
    "#\n",
    "## Reclassify\n",
    "#cl.reclassify_raster(in_tif, mask_tif, out_tif, df, 'CL_100smgN/m2/yr', 255)"
   ]
  },
  {
   "cell_type": "markdown",
   "metadata": {},
   "source": [
    "### 1.4. Get deposition data from database\n",
    "\n",
    "**Note:** Remember to add the new `dep_series_id` to the query below, as well as a new name in `df.columns`."
   ]
  },
  {
   "cell_type": "code",
   "execution_count": 2,
   "metadata": {
    "collapsed": false
   },
   "outputs": [
    {
     "name": "stdout",
     "output_type": "stream",
     "text": [
      "62.07 1711.05\n"
     ]
    },
    {
     "data": {
      "text/html": [
       "<div>\n",
       "<table border=\"1\" class=\"dataframe\">\n",
       "  <thead>\n",
       "    <tr style=\"text-align: right;\">\n",
       "      <th></th>\n",
       "      <th>Ndep1216_2</th>\n",
       "    </tr>\n",
       "    <tr>\n",
       "      <th>blr</th>\n",
       "      <th></th>\n",
       "    </tr>\n",
       "  </thead>\n",
       "  <tbody>\n",
       "    <tr>\n",
       "      <th>58006001</th>\n",
       "      <td>1057.03</td>\n",
       "    </tr>\n",
       "    <tr>\n",
       "      <th>58006002</th>\n",
       "      <td>1172.59</td>\n",
       "    </tr>\n",
       "    <tr>\n",
       "      <th>58006003</th>\n",
       "      <td>1229.18</td>\n",
       "    </tr>\n",
       "    <tr>\n",
       "      <th>58006004</th>\n",
       "      <td>1164.11</td>\n",
       "    </tr>\n",
       "    <tr>\n",
       "      <th>58006005</th>\n",
       "      <td>1050.53</td>\n",
       "    </tr>\n",
       "  </tbody>\n",
       "</table>\n",
       "</div>"
      ],
      "text/plain": [
       "          Ndep1216_2\n",
       "blr                 \n",
       "58006001     1057.03\n",
       "58006002     1172.59\n",
       "58006003     1229.18\n",
       "58006004     1164.11\n",
       "58006005     1050.53"
      ]
     },
     "execution_count": 2,
     "metadata": {},
     "output_type": "execute_result"
    }
   ],
   "source": [
    "# Get all dep values\n",
    "sql = (\"SELECT blr, dep_series_id as series, value as dep \"\n",
    "       \"FROM resa2.dep_blr_values \"\n",
    "       \"WHERE parameter_id IN (1, 2) \"\n",
    "       \"AND dep_series_id = 27\")\n",
    "\n",
    "df = pd.read_sql(sql, engine)\n",
    "\n",
    "# Sum N_oks and N_red\n",
    "df = df.groupby(['blr', 'series']).sum()\n",
    "\n",
    "# Reshape and tidy\n",
    "df = df.unstack()\n",
    "df.columns = df.columns.get_level_values(1)\n",
    "df.columns.name = ''\n",
    "df.columns = ['Ndep1216_2'] # '2' means 'new method'. Must be <=10 chars for shp\n",
    "\n",
    "print np.nanmin(df.values), np.nanmax(df.values)\n",
    "\n",
    "df.head()"
   ]
  },
  {
   "cell_type": "markdown",
   "metadata": {},
   "source": [
    "### 1.5. Loop over datasets"
   ]
  },
  {
   "cell_type": "code",
   "execution_count": 3,
   "metadata": {
    "collapsed": false
   },
   "outputs": [
    {
     "name": "stdout",
     "output_type": "stream",
     "text": [
      "Processing: Ndep1216_2\n",
      "    Building deposition shapefile...\n",
      "    Rasterising shapefile...\n"
     ]
    },
    {
     "name": "stderr",
     "output_type": "stream",
     "text": [
      "C:\\Data\\Anaconda2\\lib\\site-packages\\ipykernel\\__main__.py:78: RuntimeWarning: invalid value encountered in greater\n",
      "C:\\Data\\Anaconda2\\lib\\site-packages\\ipykernel\\__main__.py:81: RuntimeWarning: invalid value encountered in less\n"
     ]
    },
    {
     "name": "stdout",
     "output_type": "stream",
     "text": [
      "    Calculating exceedance...\n",
      "    Saving exceedance grid...\n",
      "    Done.\n",
      "Finished.\n",
      "Wall time: 2min 4s\n"
     ]
    }
   ],
   "source": [
    "%%time\n",
    "\n",
    "# Path to raw BLR shapefile\n",
    "in_shp = (r'C:\\Data\\James_Work\\Staff\\Kari_A\\Critical_Loads\\GIS'\n",
    "          r'\\Shapefiles\\blrgrid_uten_grums_utm_z33n.shp')\n",
    "\n",
    "# Snap raster\n",
    "snap_tif = (r'C:\\Data\\James_Work\\Staff\\Kari_A\\Critical_Loads'\n",
    "            r'\\GIS\\Raster\\sat_veg_30m_all.tif')\n",
    "\n",
    "# Critical loads raster\n",
    "cl_tif = (r'C:\\Data\\James_Work\\Staff\\Kari_A\\Critical_Loads'\n",
    "          r'\\GIS\\Raster\\sat_veg_30m_cr_lds_div100.tif')\n",
    "\n",
    "# Container for output\n",
    "data_dict = {'series':[],\n",
    "             'nor_area_km2':[],\n",
    "             'ex_area_km2':[]}\n",
    "\n",
    "# Loop over series\n",
    "for ser in df.columns:    \n",
    "    \n",
    "    print 'Processing: %s' % ser\n",
    "    print '    Building deposition shapefile...'\n",
    "    \n",
    "    # Get deposition\n",
    "    dep_df = df[[ser]].dropna(how='any').round(0).astype(int).reset_index()\n",
    "\n",
    "    # Rename cols to match shapefile\n",
    "    dep_df.columns = ['BLR', ser]\n",
    "\n",
    "    # Read shapefile\n",
    "    blr_df = gpd.read_file(in_shp)\n",
    "\n",
    "    # Join and tidy\n",
    "    dep_df = blr_df.merge(dep_df, on='BLR')\n",
    "    del dep_df['area_m2']\n",
    "    \n",
    "    # Write output shapefile\n",
    "    dep_shp = (r'C:\\Data\\James_Work\\Staff\\Kari_A\\Critical_Loads\\GIS'\n",
    "               r'\\Shapefiles\\dep_%s.shp' % ser)\n",
    "    dep_df.to_file(dep_shp)\n",
    "    \n",
    "    # Convert shp to ras\n",
    "    print '    Rasterising shapefile...'\n",
    "    \n",
    "    # Output BLR raster\n",
    "    dep_tif = (r'C:\\Data\\James_Work\\Staff\\Kari_A\\Critical_Loads'\n",
    "               r'\\GIS\\Raster\\dep_%s_30m.tif' % ser)\n",
    "\n",
    "    cl.vec_to_ras(dep_shp, dep_tif, snap_tif, ser, -1, gdal.GDT_Int16)\n",
    "    \n",
    "    # Exceedance\n",
    "    print '    Calculating exceedance...'\n",
    "    \n",
    "    # Read grids\n",
    "    cl_grid, cl_ndv = cl.read_geotiff(cl_tif)\n",
    "    dep_grid, dep_ndv = cl.read_geotiff(dep_tif)\n",
    "\n",
    "    # Upcast to float32 for safe handling of negative values\n",
    "    cl_grid = cl_grid.astype(np.float32)\n",
    "    dep_grid = dep_grid.astype(np.float32)\n",
    "   \n",
    "    # Set ndv\n",
    "    cl_grid[cl_grid==cl_ndv] = np.nan\n",
    "    dep_grid[dep_grid==dep_ndv] = np.nan\n",
    "\n",
    "    # Get total area of non-NaN from dep grid\n",
    "    nor_area = np.count_nonzero(~np.isnan(dep_grid))*30.*30./1.E6\n",
    "\n",
    "    # Apply scaling factor to CLs\n",
    "    cl_grid = cl_grid*100.\n",
    "\n",
    "    # Exceedance\n",
    "    ex_grid = dep_grid - cl_grid\n",
    "    del dep_grid, cl_grid  \n",
    "    \n",
    "    # Get total area exceeded\n",
    "    ex_area = np.count_nonzero(ex_grid > 0)*30.*30./1.E6\n",
    "\n",
    "    # Set <0 to 0\n",
    "    ex_grid[ex_grid<0] = 0\n",
    "    \n",
    "    # Reset ndv\n",
    "    ex_grid[np.isnan(ex_grid)] = -1\n",
    "\n",
    "    # Downcast to int16 to save space\n",
    "    ex_grid = ex_grid.round(0).astype(np.int16)\n",
    "    \n",
    "    # Append results\n",
    "    data_dict['series'].append(ser)\n",
    "    data_dict['nor_area_km2'].append(nor_area)\n",
    "    data_dict['ex_area_km2'].append(ex_area)\n",
    "    \n",
    "    # Write output\n",
    "    print '    Saving exceedance grid...'\n",
    "    ex_tif = (r'C:\\Data\\James_Work\\Staff\\Kari_A\\Critical_Loads'\n",
    "              r'\\GIS\\Raster\\exceed_%s_30m.tif' % ser)\n",
    "    \n",
    "    cl.write_geotiff(ex_grid, ex_tif, snap_tif, -1, gdal.GDT_Int16)\n",
    "    \n",
    "    print '    Done.'\n",
    "\n",
    "# Build output df\n",
    "ex_df = pd.DataFrame(data_dict)\n",
    "ex_df['ex_pct'] = 100 * ex_df['ex_area_km2'] / ex_df['nor_area_km2']\n",
    "ex_df.index = ex_df['series']\n",
    "del ex_df['series']\n",
    "ex_df = ex_df.round(0).astype(int)\n",
    "\n",
    "# Save\n",
    "out_csv = r'C:\\Data\\James_Work\\Staff\\Kari_A\\Critical_Loads\\vegetation\\nor_prop_exceed.csv'\n",
    "ex_df.to_csv(out_csv)\n",
    "\n",
    "print 'Finished.'"
   ]
  },
  {
   "cell_type": "markdown",
   "metadata": {},
   "source": [
    "### 1.6. Print national exceedance summary for vegetation"
   ]
  },
  {
   "cell_type": "code",
   "execution_count": 4,
   "metadata": {
    "collapsed": false
   },
   "outputs": [
    {
     "data": {
      "text/html": [
       "<div>\n",
       "<table border=\"1\" class=\"dataframe\">\n",
       "  <thead>\n",
       "    <tr style=\"text-align: right;\">\n",
       "      <th></th>\n",
       "      <th>ex_area_km2</th>\n",
       "      <th>nor_area_km2</th>\n",
       "      <th>ex_pct</th>\n",
       "    </tr>\n",
       "    <tr>\n",
       "      <th>series</th>\n",
       "      <th></th>\n",
       "      <th></th>\n",
       "      <th></th>\n",
       "    </tr>\n",
       "  </thead>\n",
       "  <tbody>\n",
       "    <tr>\n",
       "      <th>Ndep1216_2</th>\n",
       "      <td>64001</td>\n",
       "      <td>320584</td>\n",
       "      <td>20</td>\n",
       "    </tr>\n",
       "  </tbody>\n",
       "</table>\n",
       "</div>"
      ],
      "text/plain": [
       "            ex_area_km2  nor_area_km2  ex_pct\n",
       "series                                       \n",
       "Ndep1216_2        64001        320584      20"
      ]
     },
     "execution_count": 4,
     "metadata": {},
     "output_type": "execute_result"
    }
   ],
   "source": [
    "# Exceedance summary\n",
    "ex_df"
   ]
  },
  {
   "cell_type": "markdown",
   "metadata": {},
   "source": [
    "## 2. Water\n",
    "\n",
    "The new methodology for water exceedances is developed [here](http://nbviewer.jupyter.org/github/JamesSample/critical_loads/blob/master/notebooks/critical_loads_water.ipynb). The code below is copied from this notebook - see the original for further explanation.\n",
    "\n",
    "### 2.1. Extract deposition data\n",
    "\n",
    "**Note:** Remember to add the new `dep_series_id` to the query below."
   ]
  },
  {
   "cell_type": "code",
   "execution_count": 11,
   "metadata": {
    "collapsed": false
   },
   "outputs": [
    {
     "data": {
      "text/html": [
       "<div>\n",
       "<table border=\"1\" class=\"dataframe\">\n",
       "  <thead>\n",
       "    <tr style=\"text-align: right;\">\n",
       "      <th></th>\n",
       "      <th>N_2012-2016 (new)</th>\n",
       "      <th>S_2012-2016 (new)</th>\n",
       "    </tr>\n",
       "    <tr>\n",
       "      <th>blr</th>\n",
       "      <th></th>\n",
       "      <th></th>\n",
       "    </tr>\n",
       "  </thead>\n",
       "  <tbody>\n",
       "    <tr>\n",
       "      <th>58006001</th>\n",
       "      <td>75.502143</td>\n",
       "      <td>19.305677</td>\n",
       "    </tr>\n",
       "    <tr>\n",
       "      <th>58006002</th>\n",
       "      <td>83.756429</td>\n",
       "      <td>21.245789</td>\n",
       "    </tr>\n",
       "    <tr>\n",
       "      <th>58006003</th>\n",
       "      <td>87.798571</td>\n",
       "      <td>23.014972</td>\n",
       "    </tr>\n",
       "    <tr>\n",
       "      <th>58006004</th>\n",
       "      <td>83.150714</td>\n",
       "      <td>22.127885</td>\n",
       "    </tr>\n",
       "    <tr>\n",
       "      <th>58006005</th>\n",
       "      <td>75.037857</td>\n",
       "      <td>20.973799</td>\n",
       "    </tr>\n",
       "  </tbody>\n",
       "</table>\n",
       "</div>"
      ],
      "text/plain": [
       "          N_2012-2016 (new)  S_2012-2016 (new)\n",
       "blr                                           \n",
       "58006001          75.502143          19.305677\n",
       "58006002          83.756429          21.245789\n",
       "58006003          87.798571          23.014972\n",
       "58006004          83.150714          22.127885\n",
       "58006005          75.037857          20.973799"
      ]
     },
     "execution_count": 11,
     "metadata": {},
     "output_type": "execute_result"
    }
   ],
   "source": [
    "# Get dep data\n",
    "sql = (\"SELECT a.blr, b.name AS series, c.name AS par, a.value AS dep \"\n",
    "       \"FROM resa2.dep_blr_values a, \"\n",
    "       \"resa2.dep_series_definitions b, \"\n",
    "       \"resa2.air_parameter_definitions c \"\n",
    "       \"WHERE a.parameter_id IN (1, 2, 4) \"\n",
    "       \"AND a.dep_series_id = 27 \"\n",
    "       \"AND a.parameter_id = c.parameter_id \"\n",
    "       \"AND a.dep_series_id = b.dep_series_id\")\n",
    "\n",
    "dep_df = pd.read_sql(sql, engine)\n",
    "\n",
    "# Tidy\n",
    "dep_df['series'] = dep_df['series'].str[7:]\n",
    "dep_df['par'] = dep_df['par'].str[:1]\n",
    "\n",
    "# Group N(oks) and N(red)\n",
    "dep_df = dep_df.groupby(['blr', 'series', 'par']).sum()\n",
    "\n",
    "# Unstack\n",
    "dep_df = dep_df.unstack('par')\n",
    "dep_df.columns = dep_df.columns.get_level_values('par')\n",
    "\n",
    "# Convert to meq/l\n",
    "dep_df['N'] = dep_df['N'] / 14.\n",
    "dep_df['S'] = dep_df['S']*2. / 32.06\n",
    "\n",
    "# Unstack\n",
    "dep_df = dep_df.unstack('series')\n",
    "\n",
    "# Flatten col index\n",
    "dep_df.columns = ['%s_%s' % (p, d) for p, d in zip(dep_df.columns.get_level_values('par'), \n",
    "                                                   dep_df.columns.get_level_values('series'))]\n",
    "\n",
    "dep_df.head()"
   ]
  },
  {
   "cell_type": "markdown",
   "metadata": {},
   "source": [
    "### 2.2. Get critical loads"
   ]
  },
  {
   "cell_type": "code",
   "execution_count": 12,
   "metadata": {
    "collapsed": false
   },
   "outputs": [
    {
     "data": {
      "text/html": [
       "<div>\n",
       "<table border=\"1\" class=\"dataframe\">\n",
       "  <thead>\n",
       "    <tr style=\"text-align: right;\">\n",
       "      <th></th>\n",
       "      <th>claoaavaroaa</th>\n",
       "      <th>eno3fl</th>\n",
       "      <th>clminn</th>\n",
       "      <th>clmaxnoaa</th>\n",
       "      <th>clmaxsoaa</th>\n",
       "      <th>clmins</th>\n",
       "    </tr>\n",
       "    <tr>\n",
       "      <th>blr</th>\n",
       "      <th></th>\n",
       "      <th></th>\n",
       "      <th></th>\n",
       "      <th></th>\n",
       "      <th></th>\n",
       "      <th></th>\n",
       "    </tr>\n",
       "  </thead>\n",
       "  <tbody>\n",
       "    <tr>\n",
       "      <th>60506013</th>\n",
       "      <td>46.689055</td>\n",
       "      <td>20.499</td>\n",
       "      <td>3.204124</td>\n",
       "      <td>59.153507</td>\n",
       "      <td>47.083568</td>\n",
       "      <td>0</td>\n",
       "    </tr>\n",
       "    <tr>\n",
       "      <th>60508003</th>\n",
       "      <td>47.240467</td>\n",
       "      <td>8.988</td>\n",
       "      <td>3.204124</td>\n",
       "      <td>70.544508</td>\n",
       "      <td>48.610725</td>\n",
       "      <td>0</td>\n",
       "    </tr>\n",
       "    <tr>\n",
       "      <th>60509002</th>\n",
       "      <td>48.396218</td>\n",
       "      <td>0.029</td>\n",
       "      <td>14.635616</td>\n",
       "      <td>100.955383</td>\n",
       "      <td>51.368535</td>\n",
       "      <td>0</td>\n",
       "    </tr>\n",
       "    <tr>\n",
       "      <th>60511002</th>\n",
       "      <td>11.156834</td>\n",
       "      <td>0.080</td>\n",
       "      <td>7.077605</td>\n",
       "      <td>27.656760</td>\n",
       "      <td>11.903564</td>\n",
       "      <td>0</td>\n",
       "    </tr>\n",
       "    <tr>\n",
       "      <th>60511006</th>\n",
       "      <td>34.764804</td>\n",
       "      <td>1.081</td>\n",
       "      <td>42.316831</td>\n",
       "      <td>121.992502</td>\n",
       "      <td>38.498971</td>\n",
       "      <td>0</td>\n",
       "    </tr>\n",
       "  </tbody>\n",
       "</table>\n",
       "</div>"
      ],
      "text/plain": [
       "          claoaavaroaa  eno3fl     clminn   clmaxnoaa  clmaxsoaa  clmins\n",
       "blr                                                                     \n",
       "60506013     46.689055  20.499   3.204124   59.153507  47.083568       0\n",
       "60508003     47.240467   8.988   3.204124   70.544508  48.610725       0\n",
       "60509002     48.396218   0.029  14.635616  100.955383  51.368535       0\n",
       "60511002     11.156834   0.080   7.077605   27.656760  11.903564       0\n",
       "60511006     34.764804   1.081  42.316831  121.992502  38.498971       0"
      ]
     },
     "execution_count": 12,
     "metadata": {},
     "output_type": "execute_result"
    }
   ],
   "source": [
    "# Get dep data\n",
    "sql = (\"SELECT blr, claoaavaroaa, eno3fl, clminn, clmaxnoaa, clmaxsoaa \"\n",
    "       \"FROM resa2.cla\")\n",
    "\n",
    "cl_df = pd.read_sql(sql, engine)\n",
    "\n",
    "# Set index\n",
    "cl_df.index = cl_df['blr']\n",
    "del cl_df['blr']\n",
    "\n",
    "# Add CLSmin as 0\n",
    "cl_df['clmins'] = 0\n",
    "\n",
    "cl_df.head()"
   ]
  },
  {
   "cell_type": "markdown",
   "metadata": {},
   "source": [
    "### 2.3. Calculate exceedances\n",
    "\n",
    "#### 2.3.1. Check data and join"
   ]
  },
  {
   "cell_type": "code",
   "execution_count": 13,
   "metadata": {
    "collapsed": false
   },
   "outputs": [
    {
     "data": {
      "text/html": [
       "<div>\n",
       "<table border=\"1\" class=\"dataframe\">\n",
       "  <thead>\n",
       "    <tr style=\"text-align: right;\">\n",
       "      <th></th>\n",
       "      <th>N_2012-2016 (new)</th>\n",
       "      <th>S_2012-2016 (new)</th>\n",
       "      <th>claoaavaroaa</th>\n",
       "      <th>eno3fl</th>\n",
       "      <th>clminn</th>\n",
       "      <th>clmaxnoaa</th>\n",
       "      <th>clmaxsoaa</th>\n",
       "      <th>clmins</th>\n",
       "    </tr>\n",
       "    <tr>\n",
       "      <th>blr</th>\n",
       "      <th></th>\n",
       "      <th></th>\n",
       "      <th></th>\n",
       "      <th></th>\n",
       "      <th></th>\n",
       "      <th></th>\n",
       "      <th></th>\n",
       "      <th></th>\n",
       "    </tr>\n",
       "  </thead>\n",
       "  <tbody>\n",
       "    <tr>\n",
       "      <th>58006001</th>\n",
       "      <td>75.502143</td>\n",
       "      <td>19.305677</td>\n",
       "      <td>28.533538</td>\n",
       "      <td>35.544</td>\n",
       "      <td>3.204124</td>\n",
       "      <td>40.514435</td>\n",
       "      <td>29.056767</td>\n",
       "      <td>0</td>\n",
       "    </tr>\n",
       "    <tr>\n",
       "      <th>58006002</th>\n",
       "      <td>83.756429</td>\n",
       "      <td>21.245789</td>\n",
       "      <td>32.029772</td>\n",
       "      <td>27.861</td>\n",
       "      <td>3.204124</td>\n",
       "      <td>43.473268</td>\n",
       "      <td>32.471152</td>\n",
       "      <td>0</td>\n",
       "    </tr>\n",
       "    <tr>\n",
       "      <th>58006003</th>\n",
       "      <td>87.798571</td>\n",
       "      <td>23.014972</td>\n",
       "      <td>20.888186</td>\n",
       "      <td>25.137</td>\n",
       "      <td>3.204124</td>\n",
       "      <td>29.564269</td>\n",
       "      <td>21.184960</td>\n",
       "      <td>0</td>\n",
       "    </tr>\n",
       "    <tr>\n",
       "      <th>58006004</th>\n",
       "      <td>83.150714</td>\n",
       "      <td>22.127885</td>\n",
       "      <td>18.914393</td>\n",
       "      <td>36.846</td>\n",
       "      <td>25.972633</td>\n",
       "      <td>49.911208</td>\n",
       "      <td>19.189395</td>\n",
       "      <td>0</td>\n",
       "    </tr>\n",
       "    <tr>\n",
       "      <th>58006005</th>\n",
       "      <td>75.037857</td>\n",
       "      <td>20.973799</td>\n",
       "      <td>20.463044</td>\n",
       "      <td>47.587</td>\n",
       "      <td>3.204124</td>\n",
       "      <td>30.057701</td>\n",
       "      <td>20.846989</td>\n",
       "      <td>0</td>\n",
       "    </tr>\n",
       "  </tbody>\n",
       "</table>\n",
       "</div>"
      ],
      "text/plain": [
       "          N_2012-2016 (new)  S_2012-2016 (new)  claoaavaroaa  eno3fl  \\\n",
       "blr                                                                    \n",
       "58006001          75.502143          19.305677     28.533538  35.544   \n",
       "58006002          83.756429          21.245789     32.029772  27.861   \n",
       "58006003          87.798571          23.014972     20.888186  25.137   \n",
       "58006004          83.150714          22.127885     18.914393  36.846   \n",
       "58006005          75.037857          20.973799     20.463044  47.587   \n",
       "\n",
       "             clminn  clmaxnoaa  clmaxsoaa  clmins  \n",
       "blr                                                \n",
       "58006001   3.204124  40.514435  29.056767       0  \n",
       "58006002   3.204124  43.473268  32.471152       0  \n",
       "58006003   3.204124  29.564269  21.184960       0  \n",
       "58006004  25.972633  49.911208  19.189395       0  \n",
       "58006005   3.204124  30.057701  20.846989       0  "
      ]
     },
     "execution_count": 13,
     "metadata": {},
     "output_type": "execute_result"
    }
   ],
   "source": [
    "# Check dfs are compatible\n",
    "assert len(dep_df) == len(cl_df), 'Lengths of dataframes do not match.'\n",
    "assert dep_df.index.is_unique, 'dep_df has duplicated BLR IDs.'\n",
    "assert cl_df.index.is_unique, 'cl_df has duplicated BLR IDs.'\n",
    "\n",
    "# Join\n",
    "df = dep_df.join(cl_df, how='left')\n",
    "\n",
    "# Fill NaN with 0\n",
    "df.fillna(0, inplace=True)\n",
    "\n",
    "df.head()"
   ]
  },
  {
   "cell_type": "markdown",
   "metadata": {},
   "source": [
    "#### 2.3.2. SSWC model\n",
    "\n",
    "**Note:** Remember to update the `periods` list below."
   ]
  },
  {
   "cell_type": "code",
   "execution_count": 14,
   "metadata": {
    "collapsed": false
   },
   "outputs": [
    {
     "data": {
      "text/html": [
       "<div>\n",
       "<table border=\"1\" class=\"dataframe\">\n",
       "  <thead>\n",
       "    <tr style=\"text-align: right;\">\n",
       "      <th></th>\n",
       "      <th>sswc_ex_2012-2016 (new)</th>\n",
       "    </tr>\n",
       "    <tr>\n",
       "      <th>blr</th>\n",
       "      <th></th>\n",
       "    </tr>\n",
       "  </thead>\n",
       "  <tbody>\n",
       "    <tr>\n",
       "      <th>58006001</th>\n",
       "      <td>26.316139</td>\n",
       "    </tr>\n",
       "    <tr>\n",
       "      <th>58006002</th>\n",
       "      <td>17.077017</td>\n",
       "    </tr>\n",
       "    <tr>\n",
       "      <th>58006003</th>\n",
       "      <td>27.263786</td>\n",
       "    </tr>\n",
       "    <tr>\n",
       "      <th>58006004</th>\n",
       "      <td>40.059492</td>\n",
       "    </tr>\n",
       "    <tr>\n",
       "      <th>58006005</th>\n",
       "      <td>48.097755</td>\n",
       "    </tr>\n",
       "  </tbody>\n",
       "</table>\n",
       "</div>"
      ],
      "text/plain": [
       "          sswc_ex_2012-2016 (new)\n",
       "blr                              \n",
       "58006001                26.316139\n",
       "58006002                17.077017\n",
       "58006003                27.263786\n",
       "58006004                40.059492\n",
       "58006005                48.097755"
      ]
     },
     "execution_count": 14,
     "metadata": {},
     "output_type": "execute_result"
    }
   ],
   "source": [
    "# Define time periods\n",
    "periods = ['2012-2016 (new)',]\n",
    "\n",
    "# Copy df\n",
    "sswc_df = df.copy()\n",
    "\n",
    "# Loop over periods\n",
    "for per in periods:\n",
    "    sswc_df['sswc_ex_%s' % per] = (sswc_df['S_%s' % per] + \n",
    "                                   sswc_df['eno3fl'] - \n",
    "                                   sswc_df['claoaavaroaa'])\n",
    "\n",
    "# Get cols of interest\n",
    "cols = ['sswc_ex_%s' % per for per in periods]\n",
    "sswc_df = sswc_df[cols]\n",
    "\n",
    "# Set values below 0 to 0\n",
    "sswc_df[sswc_df<0] = 0\n",
    "\n",
    "# Write to output\n",
    "out_path = (r'C:\\Data\\James_Work\\Staff\\Kari_A\\Critical_Loads\\water\\sswc_exceedance_12-16_new.csv')\n",
    "sswc_df.to_csv(out_path)\n",
    "\n",
    "sswc_df.head()"
   ]
  },
  {
   "cell_type": "markdown",
   "metadata": {},
   "source": [
    "#### 2.3.3. FAB model\n",
    "\n",
    "**Note:** Remember to update the `periods` list below."
   ]
  },
  {
   "cell_type": "code",
   "execution_count": 15,
   "metadata": {
    "collapsed": false
   },
   "outputs": [
    {
     "name": "stdout",
     "output_type": "stream",
     "text": [
      "Processing 2012-2016 (new)...\n",
      "Finished.\n"
     ]
    },
    {
     "data": {
      "text/html": [
       "<div>\n",
       "<table border=\"1\" class=\"dataframe\">\n",
       "  <thead>\n",
       "    <tr style=\"text-align: right;\">\n",
       "      <th></th>\n",
       "      <th>fab_ex_n_2012-2016 (new)</th>\n",
       "      <th>fab_ex_s_2012-2016 (new)</th>\n",
       "      <th>fab_ex_reg_2012-2016 (new)</th>\n",
       "      <th>fab_ex_2012-2016 (new)</th>\n",
       "    </tr>\n",
       "    <tr>\n",
       "      <th>blr</th>\n",
       "      <th></th>\n",
       "      <th></th>\n",
       "      <th></th>\n",
       "      <th></th>\n",
       "    </tr>\n",
       "  </thead>\n",
       "  <tbody>\n",
       "    <tr>\n",
       "      <th>58006001</th>\n",
       "      <td>34.987708</td>\n",
       "      <td>19.305677</td>\n",
       "      <td>2</td>\n",
       "      <td>54.293384</td>\n",
       "    </tr>\n",
       "    <tr>\n",
       "      <th>58006002</th>\n",
       "      <td>40.283160</td>\n",
       "      <td>21.245789</td>\n",
       "      <td>2</td>\n",
       "      <td>61.528949</td>\n",
       "    </tr>\n",
       "    <tr>\n",
       "      <th>58006003</th>\n",
       "      <td>58.234303</td>\n",
       "      <td>23.014972</td>\n",
       "      <td>2</td>\n",
       "      <td>81.249275</td>\n",
       "    </tr>\n",
       "    <tr>\n",
       "      <th>58006004</th>\n",
       "      <td>33.239506</td>\n",
       "      <td>22.127885</td>\n",
       "      <td>2</td>\n",
       "      <td>55.367391</td>\n",
       "    </tr>\n",
       "    <tr>\n",
       "      <th>58006005</th>\n",
       "      <td>44.980157</td>\n",
       "      <td>20.973799</td>\n",
       "      <td>2</td>\n",
       "      <td>65.953956</td>\n",
       "    </tr>\n",
       "  </tbody>\n",
       "</table>\n",
       "</div>"
      ],
      "text/plain": [
       "          fab_ex_n_2012-2016 (new)  fab_ex_s_2012-2016 (new)  \\\n",
       "blr                                                            \n",
       "58006001                 34.987708                 19.305677   \n",
       "58006002                 40.283160                 21.245789   \n",
       "58006003                 58.234303                 23.014972   \n",
       "58006004                 33.239506                 22.127885   \n",
       "58006005                 44.980157                 20.973799   \n",
       "\n",
       "          fab_ex_reg_2012-2016 (new)  fab_ex_2012-2016 (new)  \n",
       "blr                                                           \n",
       "58006001                           2               54.293384  \n",
       "58006002                           2               61.528949  \n",
       "58006003                           2               81.249275  \n",
       "58006004                           2               55.367391  \n",
       "58006005                           2               65.953956  "
      ]
     },
     "execution_count": 15,
     "metadata": {},
     "output_type": "execute_result"
    }
   ],
   "source": [
    "# Define time periods\n",
    "periods = ['2012-2016 (new)',]\n",
    "\n",
    "# Plot folder\n",
    "png_fold = r'C:\\Data\\James_Work\\Staff\\Kari_A\\Critical_Loads\\water\\CLF_PNGs'\n",
    "\n",
    "# Copy df\n",
    "fab_df = df.copy()\n",
    "\n",
    "# Loop over periods\n",
    "for per in periods:\n",
    "    print 'Processing %s...' % per\n",
    "    \n",
    "    # Containers for data\n",
    "    fab_ex_n = []\n",
    "    fab_ex_s = []\n",
    "    fab_ex_reg = []\n",
    "    \n",
    "    # Loop over rows\n",
    "    for idx, row in df.iterrows():\n",
    "        # Calc exceedance\n",
    "        ex_n, ex_s, reg_id = cl.exceed_ns_icpm(row['clminn'], row['clmaxnoaa'],\n",
    "                                               row['clmins'], row['clmaxsoaa'],\n",
    "                                               row['N_%s' % per], row['S_%s' % per])\n",
    "        \n",
    "        # Add to result\n",
    "        fab_ex_n.append(ex_n)\n",
    "        fab_ex_s.append(ex_s)\n",
    "        fab_ex_reg.append(reg_id)\n",
    "        \n",
    "        # Plot\n",
    "#        out_png = os.path.join(png_fold, 'blr_%s_%s.png' % (idx, per))\n",
    "#        cl.plot_critical_loads_func(row['clminn'], row['clmaxnoaa'],\n",
    "#                                    row['clmins'], row['clmaxsoaa'],\n",
    "#                                    [row['N_%s' % per],], [row['S_%s' % per]],\n",
    "#                                    title='%s (%s)' % (idx, per), save_png=True, \n",
    "#                                    png_path=out_png)\n",
    "#        plt.close()\n",
    "        \n",
    "    # Add to df\n",
    "    fab_df['fab_ex_n_%s' % per] = fab_ex_n\n",
    "    fab_df['fab_ex_s_%s' % per] = fab_ex_s\n",
    "    fab_df['fab_ex_reg_%s' % per] = fab_ex_reg\n",
    "    \n",
    "    # Calc total ex = ex_n + ex_s\n",
    "    fab_df['fab_ex_%s' % per] = fab_df['fab_ex_n_%s' % per] + fab_df['fab_ex_s_%s' % per]\n",
    "\n",
    "# Get cols of interest\n",
    "cols = [i for i in fab_df.columns if i[:3]=='fab']\n",
    "fab_df = fab_df[cols]\n",
    "\n",
    "# Set values below 0 to 0\n",
    "fab_df[fab_df<0] = 0\n",
    "\n",
    "# Write to output\n",
    "out_path = (r'C:\\Data\\James_Work\\Staff\\Kari_A\\Critical_Loads\\water\\fab_exceedance_12-16_new.csv')\n",
    "fab_df.to_csv(out_path)\n",
    "\n",
    "print 'Finished.'\n",
    "\n",
    "fab_df.head()"
   ]
  },
  {
   "cell_type": "markdown",
   "metadata": {},
   "source": [
    "#### 2.3.4. Area exceeded"
   ]
  },
  {
   "cell_type": "code",
   "execution_count": 16,
   "metadata": {
    "collapsed": false
   },
   "outputs": [
    {
     "data": {
      "text/html": [
       "<div>\n",
       "<table border=\"1\" class=\"dataframe\">\n",
       "  <thead>\n",
       "    <tr style=\"text-align: right;\">\n",
       "      <th></th>\n",
       "      <th>BLR</th>\n",
       "      <th>area_m2</th>\n",
       "    </tr>\n",
       "  </thead>\n",
       "  <tbody>\n",
       "    <tr>\n",
       "      <th>0</th>\n",
       "      <td>58005004</td>\n",
       "      <td>5.410322e+07</td>\n",
       "    </tr>\n",
       "    <tr>\n",
       "      <th>1</th>\n",
       "      <td>58006001</td>\n",
       "      <td>1.939285e+08</td>\n",
       "    </tr>\n",
       "    <tr>\n",
       "      <th>2</th>\n",
       "      <td>58006002</td>\n",
       "      <td>2.044114e+08</td>\n",
       "    </tr>\n",
       "    <tr>\n",
       "      <th>3</th>\n",
       "      <td>58006003</td>\n",
       "      <td>2.043394e+08</td>\n",
       "    </tr>\n",
       "    <tr>\n",
       "      <th>4</th>\n",
       "      <td>58006004</td>\n",
       "      <td>2.042695e+08</td>\n",
       "    </tr>\n",
       "  </tbody>\n",
       "</table>\n",
       "</div>"
      ],
      "text/plain": [
       "        BLR       area_m2\n",
       "0  58005004  5.410322e+07\n",
       "1  58006001  1.939285e+08\n",
       "2  58006002  2.044114e+08\n",
       "3  58006003  2.043394e+08\n",
       "4  58006004  2.042695e+08"
      ]
     },
     "execution_count": 16,
     "metadata": {},
     "output_type": "execute_result"
    }
   ],
   "source": [
    "# Read BLR grid\n",
    "in_shp = (r'C:\\Data\\James_Work\\Staff\\Kari_A\\Critical_Loads\\GIS'\n",
    "          r'\\Shapefiles\\blrgrid_uten_grums.shp')\n",
    "blr_df = gpd.read_file(in_shp)\n",
    "\n",
    "# Convert to 'normal' df\n",
    "del blr_df['geometry']\n",
    "blr_df = pd.DataFrame(blr_df)\n",
    "\n",
    "# Get total area of Norway by summing cells\n",
    "nor_area = blr_df['area_m2'].sum()/1E6\n",
    "\n",
    "blr_df.head()"
   ]
  },
  {
   "cell_type": "markdown",
   "metadata": {},
   "source": [
    "##### 2.3.4.1. SSWC"
   ]
  },
  {
   "cell_type": "code",
   "execution_count": 17,
   "metadata": {
    "collapsed": false
   },
   "outputs": [
    {
     "data": {
      "text/html": [
       "<div>\n",
       "<table border=\"1\" class=\"dataframe\">\n",
       "  <thead>\n",
       "    <tr style=\"text-align: right;\">\n",
       "      <th></th>\n",
       "      <th>area_exceeded_km2</th>\n",
       "      <th>area_total_km2</th>\n",
       "      <th>pct_exceed</th>\n",
       "    </tr>\n",
       "    <tr>\n",
       "      <th>period</th>\n",
       "      <th></th>\n",
       "      <th></th>\n",
       "      <th></th>\n",
       "    </tr>\n",
       "  </thead>\n",
       "  <tbody>\n",
       "    <tr>\n",
       "      <th>016 (new)</th>\n",
       "      <td>23466</td>\n",
       "      <td>322183</td>\n",
       "      <td>7</td>\n",
       "    </tr>\n",
       "  </tbody>\n",
       "</table>\n",
       "</div>"
      ],
      "text/plain": [
       "           area_exceeded_km2  area_total_km2  pct_exceed\n",
       "period                                                  \n",
       "016 (new)              23466          322183           7"
      ]
     },
     "execution_count": 17,
     "metadata": {},
     "output_type": "execute_result"
    }
   ],
   "source": [
    "# Container for output\n",
    "data_dict = {'period':[],\n",
    "             'area_exceeded_km2':[],\n",
    "             'area_total_km2':[]}\n",
    "\n",
    "# Caclulate area exceeded\n",
    "for col in sswc_df.columns:\n",
    "    per = col[-9:]\n",
    "    \n",
    "    # Get BLRs exceeded\n",
    "    ex_blr = sswc_df[sswc_df[col]>0].index\n",
    "    \n",
    "    # Get area exceeded\n",
    "    area_ex = blr_df['area_m2'][blr_df['BLR'].isin(ex_blr)].sum()/1E6\n",
    "    \n",
    "    # Add to output\n",
    "    data_dict['period'].append(per)\n",
    "    data_dict['area_exceeded_km2'].append(area_ex)\n",
    "    data_dict['area_total_km2'].append(nor_area)\n",
    "    \n",
    "# Build df\n",
    "sswc_areas = pd.DataFrame(data_dict)\n",
    "sswc_areas.index = sswc_areas['period']\n",
    "del sswc_areas['period']\n",
    "\n",
    "# Pct exceed\n",
    "sswc_areas['pct_exceed'] = 100*sswc_areas['area_exceeded_km2']/nor_area\n",
    "\n",
    "# Tidy\n",
    "sswc_areas = sswc_areas.round(0).astype(int)\n",
    "\n",
    "# Write output\n",
    "out_csv = (r'C:\\Data\\James_Work\\Staff\\Kari_A\\Critical_Loads\\water'\n",
    "           r'\\sswc_area_exceeded.csv')\n",
    "sswc_areas.to_csv(out_csv)\n",
    "\n",
    "sswc_areas"
   ]
  },
  {
   "cell_type": "markdown",
   "metadata": {},
   "source": [
    "##### 2.3.4.2. FAB\n",
    "\n",
    "**Note:** Remember to update the `periods` list below."
   ]
  },
  {
   "cell_type": "code",
   "execution_count": 19,
   "metadata": {
    "collapsed": false
   },
   "outputs": [
    {
     "data": {
      "text/html": [
       "<div>\n",
       "<table border=\"1\" class=\"dataframe\">\n",
       "  <thead>\n",
       "    <tr style=\"text-align: right;\">\n",
       "      <th></th>\n",
       "      <th>area_exceeded_km2</th>\n",
       "      <th>area_total_km2</th>\n",
       "      <th>pct_exceed</th>\n",
       "    </tr>\n",
       "    <tr>\n",
       "      <th>period</th>\n",
       "      <th></th>\n",
       "      <th></th>\n",
       "      <th></th>\n",
       "    </tr>\n",
       "  </thead>\n",
       "  <tbody>\n",
       "    <tr>\n",
       "      <th>016 (new)</th>\n",
       "      <td>60897</td>\n",
       "      <td>322183</td>\n",
       "      <td>19</td>\n",
       "    </tr>\n",
       "  </tbody>\n",
       "</table>\n",
       "</div>"
      ],
      "text/plain": [
       "           area_exceeded_km2  area_total_km2  pct_exceed\n",
       "period                                                  \n",
       "016 (new)              60897          322183          19"
      ]
     },
     "execution_count": 19,
     "metadata": {},
     "output_type": "execute_result"
    }
   ],
   "source": [
    "# Get cols for overall exceedance\n",
    "periods = ['2012-2016 (new)',]\n",
    "cols = ['fab_ex_%s' % i for i in periods]\n",
    "fab = fab_df[cols]\n",
    "\n",
    "# Container for output\n",
    "data_dict = {'period':[],\n",
    "             'area_exceeded_km2':[],\n",
    "             'area_total_km2':[]}\n",
    "\n",
    "# Caclulate area exceeded\n",
    "for col in fab.columns:\n",
    "    per = col[-9:]\n",
    "    \n",
    "    # Get BLRs exceeded\n",
    "    ex_blr = fab[fab[col]>0].index\n",
    "    \n",
    "    # Get area exceeded\n",
    "    area_ex = blr_df['area_m2'][blr_df['BLR'].isin(ex_blr)].sum()/1E6\n",
    "    \n",
    "    # Add to output\n",
    "    data_dict['period'].append(per)\n",
    "    data_dict['area_exceeded_km2'].append(area_ex)\n",
    "    data_dict['area_total_km2'].append(nor_area)\n",
    "    \n",
    "# Build df\n",
    "fab_areas = pd.DataFrame(data_dict)\n",
    "fab_areas.index = fab_areas['period']\n",
    "del fab_areas['period']\n",
    "\n",
    "# Pct exceed\n",
    "fab_areas['pct_exceed'] = 100*fab_areas['area_exceeded_km2']/nor_area\n",
    "\n",
    "# Tidy\n",
    "fab_areas = fab_areas.round(0).astype(int)\n",
    "\n",
    "# Write output\n",
    "out_csv = (r'C:\\Data\\James_Work\\Staff\\Kari_A\\Critical_Loads\\water'\n",
    "           r'\\fab_area_exceeded.csv')\n",
    "fab_areas.to_csv(out_csv)\n",
    "\n",
    "fab_areas"
   ]
  },
  {
   "cell_type": "markdown",
   "metadata": {},
   "source": [
    "## 3. Soil\n",
    "\n",
    "The soil calculations use the \"old\" method - see e-mail from Kari received 01/11/2017 at 13.47. The equation is simply\n",
    "\n",
    "$$E_{soil} = S_{dep} - CL_{soil}$$\n",
    "\n",
    "### 3.1. Get deposition data from database\n",
    "\n",
    "**Note:** Remember to add the new `dep_series_id` to the query below, as well as a new name in `df.columns`."
   ]
  },
  {
   "cell_type": "code",
   "execution_count": 21,
   "metadata": {
    "collapsed": false
   },
   "outputs": [
    {
     "data": {
      "text/html": [
       "<div>\n",
       "<table border=\"1\" class=\"dataframe\">\n",
       "  <thead>\n",
       "    <tr style=\"text-align: right;\">\n",
       "      <th></th>\n",
       "      <th>Sdep1216_2</th>\n",
       "    </tr>\n",
       "    <tr>\n",
       "      <th>blr</th>\n",
       "      <th></th>\n",
       "    </tr>\n",
       "  </thead>\n",
       "  <tbody>\n",
       "    <tr>\n",
       "      <th>58006001</th>\n",
       "      <td>309.47</td>\n",
       "    </tr>\n",
       "    <tr>\n",
       "      <th>58006002</th>\n",
       "      <td>340.57</td>\n",
       "    </tr>\n",
       "    <tr>\n",
       "      <th>58006003</th>\n",
       "      <td>368.93</td>\n",
       "    </tr>\n",
       "    <tr>\n",
       "      <th>58006004</th>\n",
       "      <td>354.71</td>\n",
       "    </tr>\n",
       "    <tr>\n",
       "      <th>58006005</th>\n",
       "      <td>336.21</td>\n",
       "    </tr>\n",
       "  </tbody>\n",
       "</table>\n",
       "</div>"
      ],
      "text/plain": [
       "          Sdep1216_2\n",
       "blr                 \n",
       "58006001      309.47\n",
       "58006002      340.57\n",
       "58006003      368.93\n",
       "58006004      354.71\n",
       "58006005      336.21"
      ]
     },
     "execution_count": 21,
     "metadata": {},
     "output_type": "execute_result"
    }
   ],
   "source": [
    "# Get all dep values for non-marine S\n",
    "# in mg-S/m2/year\n",
    "sql = (\"SELECT blr, dep_series_id as series, value as dep \"\n",
    "       \"FROM resa2.dep_blr_values \"\n",
    "       \"WHERE parameter_id = 4 \"\n",
    "       \"AND dep_series_id = 27\")\n",
    "\n",
    "dep_df = pd.read_sql(sql, engine)\n",
    "\n",
    "# Reshape and tidy\n",
    "dep_df = dep_df.pivot(index='blr', columns='series', values='dep')\n",
    "dep_df.columns.name = ''\n",
    "dep_df.columns = ['Sdep1216_2']\n",
    "\n",
    "dep_df.head()"
   ]
  },
  {
   "cell_type": "markdown",
   "metadata": {},
   "source": [
    "### 3.2. Get critical loads\n",
    "\n",
    "**Note:** Parameter 86 (`CL-Soil-N`) is strangely named, but the description implies it is the critical load for S.\n",
    "\n",
    "**Note 2:** There is one cell where the critical loads is negative. This is filtered out from the calculations - see e-mail from Espen received 16/11/2017 at 13.04."
   ]
  },
  {
   "cell_type": "code",
   "execution_count": 22,
   "metadata": {
    "collapsed": false
   },
   "outputs": [
    {
     "data": {
      "text/html": [
       "<div>\n",
       "<table border=\"1\" class=\"dataframe\">\n",
       "  <thead>\n",
       "    <tr style=\"text-align: right;\">\n",
       "      <th></th>\n",
       "      <th>crit_ld</th>\n",
       "    </tr>\n",
       "    <tr>\n",
       "      <th>blr</th>\n",
       "      <th></th>\n",
       "    </tr>\n",
       "  </thead>\n",
       "  <tbody>\n",
       "    <tr>\n",
       "      <th>58006004</th>\n",
       "      <td>1818.923277</td>\n",
       "    </tr>\n",
       "    <tr>\n",
       "      <th>58006007</th>\n",
       "      <td>3237.448624</td>\n",
       "    </tr>\n",
       "    <tr>\n",
       "      <th>58006008</th>\n",
       "      <td>3095.109867</td>\n",
       "    </tr>\n",
       "    <tr>\n",
       "      <th>58006012</th>\n",
       "      <td>3443.772948</td>\n",
       "    </tr>\n",
       "    <tr>\n",
       "      <th>58006015</th>\n",
       "      <td>3062.583133</td>\n",
       "    </tr>\n",
       "  </tbody>\n",
       "</table>\n",
       "</div>"
      ],
      "text/plain": [
       "              crit_ld\n",
       "blr                  \n",
       "58006004  1818.923277\n",
       "58006007  3237.448624\n",
       "58006008  3095.109867\n",
       "58006012  3443.772948\n",
       "58006015  3062.583133"
      ]
     },
     "execution_count": 22,
     "metadata": {},
     "output_type": "execute_result"
    }
   ],
   "source": [
    "# Get all CLs for S\n",
    "# in meq/m2/year\n",
    "sql = (\"SELECT blr, xvalue as crit_ld \"\n",
    "       \"FROM resa2.talegren_values \"\n",
    "       \"WHERE talegren_paramid = 86\")\n",
    "\n",
    "cl_df = pd.read_sql(sql, engine)\n",
    "cl_df.index = cl_df['blr']\n",
    "del cl_df['blr']\n",
    "\n",
    "# Convert to mg-S/m2/yr\n",
    "cl_df['crit_ld'] = cl_df['crit_ld']*32.06 / 2.\n",
    "\n",
    "# Remove negative CL\n",
    "cl_df = cl_df.query('crit_ld >= 0')\n",
    "\n",
    "cl_df.head()"
   ]
  },
  {
   "cell_type": "markdown",
   "metadata": {},
   "source": [
    "### 3.3. Calculate exceedances"
   ]
  },
  {
   "cell_type": "code",
   "execution_count": 23,
   "metadata": {
    "collapsed": false
   },
   "outputs": [
    {
     "data": {
      "text/html": [
       "<div>\n",
       "<table border=\"1\" class=\"dataframe\">\n",
       "  <thead>\n",
       "    <tr style=\"text-align: right;\">\n",
       "      <th></th>\n",
       "      <th>Ex216_2</th>\n",
       "    </tr>\n",
       "    <tr>\n",
       "      <th>blr</th>\n",
       "      <th></th>\n",
       "    </tr>\n",
       "  </thead>\n",
       "  <tbody>\n",
       "    <tr>\n",
       "      <th>58006004</th>\n",
       "      <td>-1464.213277</td>\n",
       "    </tr>\n",
       "    <tr>\n",
       "      <th>58006007</th>\n",
       "      <td>-2838.098624</td>\n",
       "    </tr>\n",
       "    <tr>\n",
       "      <th>58006008</th>\n",
       "      <td>-2670.339867</td>\n",
       "    </tr>\n",
       "    <tr>\n",
       "      <th>58006012</th>\n",
       "      <td>-3005.022948</td>\n",
       "    </tr>\n",
       "    <tr>\n",
       "      <th>58006015</th>\n",
       "      <td>-2751.633133</td>\n",
       "    </tr>\n",
       "  </tbody>\n",
       "</table>\n",
       "</div>"
      ],
      "text/plain": [
       "              Ex216_2\n",
       "blr                  \n",
       "58006004 -1464.213277\n",
       "58006007 -2838.098624\n",
       "58006008 -2670.339867\n",
       "58006012 -3005.022948\n",
       "58006015 -2751.633133"
      ]
     },
     "execution_count": 23,
     "metadata": {},
     "output_type": "execute_result"
    }
   ],
   "source": [
    "# Join\n",
    "df = dep_df.join(cl_df)\n",
    "\n",
    "# Exceedance\n",
    "for col in dep_df.columns:\n",
    "    per = col[-5:]\n",
    "    df['Ex%s' % per] = df[col] - df['crit_ld']\n",
    "    \n",
    "# Get cols of interest\n",
    "ex_df = df[[i for i in df.columns if i[:2]=='Ex']].copy()\n",
    "ex_df.dropna(how='any', inplace=True)\n",
    "\n",
    "ex_df.head()"
   ]
  },
  {
   "cell_type": "markdown",
   "metadata": {},
   "source": [
    "### 3.4. Area exceeded"
   ]
  },
  {
   "cell_type": "code",
   "execution_count": 24,
   "metadata": {
    "collapsed": false
   },
   "outputs": [
    {
     "data": {
      "text/html": [
       "<div>\n",
       "<table border=\"1\" class=\"dataframe\">\n",
       "  <thead>\n",
       "    <tr style=\"text-align: right;\">\n",
       "      <th></th>\n",
       "      <th>BLR</th>\n",
       "      <th>area_m2</th>\n",
       "    </tr>\n",
       "  </thead>\n",
       "  <tbody>\n",
       "    <tr>\n",
       "      <th>0</th>\n",
       "      <td>58005004</td>\n",
       "      <td>5.410322e+07</td>\n",
       "    </tr>\n",
       "    <tr>\n",
       "      <th>1</th>\n",
       "      <td>58006001</td>\n",
       "      <td>1.939285e+08</td>\n",
       "    </tr>\n",
       "    <tr>\n",
       "      <th>2</th>\n",
       "      <td>58006002</td>\n",
       "      <td>2.044114e+08</td>\n",
       "    </tr>\n",
       "    <tr>\n",
       "      <th>3</th>\n",
       "      <td>58006003</td>\n",
       "      <td>2.043394e+08</td>\n",
       "    </tr>\n",
       "    <tr>\n",
       "      <th>4</th>\n",
       "      <td>58006004</td>\n",
       "      <td>2.042695e+08</td>\n",
       "    </tr>\n",
       "  </tbody>\n",
       "</table>\n",
       "</div>"
      ],
      "text/plain": [
       "        BLR       area_m2\n",
       "0  58005004  5.410322e+07\n",
       "1  58006001  1.939285e+08\n",
       "2  58006002  2.044114e+08\n",
       "3  58006003  2.043394e+08\n",
       "4  58006004  2.042695e+08"
      ]
     },
     "execution_count": 24,
     "metadata": {},
     "output_type": "execute_result"
    }
   ],
   "source": [
    "# Read BLR grid\n",
    "in_shp = (r'C:\\Data\\James_Work\\Staff\\Kari_A\\Critical_Loads\\GIS'\n",
    "          r'\\Shapefiles\\blrgrid_uten_grums.shp')\n",
    "blr_df = gpd.read_file(in_shp)\n",
    "\n",
    "# Convert to 'normal' df\n",
    "del blr_df['geometry']\n",
    "blr_df = pd.DataFrame(blr_df)\n",
    "\n",
    "# Get total area of Norway by summing cells\n",
    "nor_area = blr_df['area_m2'].sum()/1E6\n",
    "\n",
    "blr_df.head()"
   ]
  },
  {
   "cell_type": "code",
   "execution_count": 25,
   "metadata": {
    "collapsed": false
   },
   "outputs": [
    {
     "data": {
      "text/html": [
       "<div>\n",
       "<table border=\"1\" class=\"dataframe\">\n",
       "  <thead>\n",
       "    <tr style=\"text-align: right;\">\n",
       "      <th></th>\n",
       "      <th>area_exceeded_km2</th>\n",
       "      <th>area_total_km2</th>\n",
       "      <th>pct_exceed</th>\n",
       "    </tr>\n",
       "    <tr>\n",
       "      <th>period</th>\n",
       "      <th></th>\n",
       "      <th></th>\n",
       "      <th></th>\n",
       "    </tr>\n",
       "  </thead>\n",
       "  <tbody>\n",
       "    <tr>\n",
       "      <th>216_2</th>\n",
       "      <td>0.0</td>\n",
       "      <td>322183.39</td>\n",
       "      <td>0.0</td>\n",
       "    </tr>\n",
       "  </tbody>\n",
       "</table>\n",
       "</div>"
      ],
      "text/plain": [
       "        area_exceeded_km2  area_total_km2  pct_exceed\n",
       "period                                               \n",
       "216_2                 0.0       322183.39         0.0"
      ]
     },
     "execution_count": 25,
     "metadata": {},
     "output_type": "execute_result"
    }
   ],
   "source": [
    "# Container for output\n",
    "data_dict = {'period':[],\n",
    "             'area_exceeded_km2':[],\n",
    "             'area_total_km2':[]}\n",
    "\n",
    "# Caclulate area exceeded\n",
    "for col in ex_df.columns:\n",
    "    per = col[-5:]\n",
    "    \n",
    "    # Get BLRs exceeded\n",
    "    ex_blr = ex_df[ex_df[col]>0].index\n",
    "    \n",
    "    # Get area exceeded\n",
    "    area_ex = blr_df['area_m2'][blr_df['BLR'].isin(ex_blr)].sum()/1E6\n",
    "    \n",
    "    # Add to output\n",
    "    data_dict['period'].append(per)\n",
    "    data_dict['area_exceeded_km2'].append(area_ex)\n",
    "    data_dict['area_total_km2'].append(nor_area)\n",
    "    \n",
    "# Build df\n",
    "areas = pd.DataFrame(data_dict)\n",
    "areas.index = areas['period']\n",
    "del areas['period']\n",
    "\n",
    "# Pct exceed\n",
    "areas['pct_exceed'] = 100*areas['area_exceeded_km2']/nor_area\n",
    "\n",
    "# Tidy\n",
    "areas = areas.round(2)\n",
    "\n",
    "# Write output\n",
    "out_csv = (r'C:\\Data\\James_Work\\Staff\\Kari_A\\Critical_Loads\\soils'\n",
    "           r'\\soils_area_exceeded.csv')\n",
    "areas.to_csv(out_csv)\n",
    "\n",
    "areas"
   ]
  }
 ],
 "metadata": {
  "kernelspec": {
   "display_name": "Python 2",
   "language": "python",
   "name": "python2"
  },
  "language_info": {
   "codemirror_mode": {
    "name": "ipython",
    "version": 2
   },
   "file_extension": ".py",
   "mimetype": "text/x-python",
   "name": "python",
   "nbconvert_exporter": "python",
   "pygments_lexer": "ipython2",
   "version": "2.7.13"
  }
 },
 "nbformat": 4,
 "nbformat_minor": 0
}
