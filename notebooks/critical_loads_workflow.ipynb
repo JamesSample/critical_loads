{
 "cells": [
  {
   "cell_type": "code",
   "execution_count": 1,
   "metadata": {
    "collapsed": true
   },
   "outputs": [],
   "source": [
    "from osgeo import ogr\n",
    "from osgeo import gdal\n",
    "import numpy as np\n",
    "import pandas as pd\n",
    "import geopandas as gpd\n",
    "import critical_loads as cl\n",
    "import nivapy\n",
    "\n",
    "# Connect to db\n",
    "engine = nivapy.da.connect()"
   ]
  },
  {
   "cell_type": "markdown",
   "metadata": {},
   "source": [
    "# Critical Loads Workflow\n",
    "\n",
    "This notebook implements a new workflow for the Critical Loads processing. There are three main components: vegetation, water and soils.\n",
    "\n",
    "## 1. Vegetation\n",
    "\n",
    "A new raster-based workflow was developed in [this notebook](http://nbviewer.jupyter.org/github/JamesSample/critical_loads/blob/master/notebooks/critical_loads_vegetation.ipynb). The code below loops over all the datasets to create vegetation exceedance grids (in mg-N/l) for the time periods of interest.\n",
    "\n",
    "### 1.1. Upload new data to database"
   ]
  },
  {
   "cell_type": "code",
   "execution_count": 2,
   "metadata": {
    "collapsed": false
   },
   "outputs": [],
   "source": [
    "# ID for new series\n",
    "ser_id = 26\n",
    "\n",
    "# Create new series for this data period\n",
    "df = pd.DataFrame({'dep_series_id':ser_id,\n",
    "                   'name':'Middel 2012-2016',\n",
    "                   'description':'Fordelt til BLR av NILU 2017 (Wenche Aas; old method)'},\n",
    "                  index=[0,])\n",
    "\n",
    "## Add to db\n",
    "#df.to_sql('dep_series_definitions', con=engine, schema='resa2', \n",
    "#          if_exists='append', index=False)"
   ]
  },
  {
   "cell_type": "code",
   "execution_count": 3,
   "metadata": {
    "collapsed": false
   },
   "outputs": [],
   "source": [
    "# Read data\n",
    "in_xlsx = (ur'K:\\Avdeling\\317 Klima- og miljømodellering\\KAU\\Focal Centre'\n",
    "           ur'\\Projects\\2017 Tålegrenseprosjekt\\Data\\dep1216_til_NIVA_old method.xlsx')\n",
    "df = pd.read_excel(in_xlsx, sheetname='16x16 NIVA', index_col=0)\n",
    "df.index.name = 'blr'\n",
    "\n",
    "# Map headings to db par IDs\n",
    "par_dict = {'atnsss1216':4,  # Non-marine S\n",
    "            'atnox1216':1,   # N (oks)\n",
    "            'atnhx1216':2,   # N (red)\n",
    "            'ats1216':3}     # Total S\n",
    "\n",
    "# Get cols and rename\n",
    "df = df[par_dict.keys()]\n",
    "df.columns = [par_dict[i] for i in df.columns]\n",
    "df.reset_index(inplace=True)\n",
    "\n",
    "# Melt \n",
    "df = pd.melt(df, var_name='parameter_id', id_vars='blr')\n",
    "\n",
    "# Add series ID\n",
    "df['dep_series_id'] = ser_id\n",
    "\n",
    "## Add to db\n",
    "#df.to_sql('dep_blr_values', con=engine, schema='resa2', \n",
    "#          if_exists='append', index=False)"
   ]
  },
  {
   "cell_type": "markdown",
   "metadata": {},
   "source": [
    "### 1.2. Read lookup table link vegetation classes to critical loads"
   ]
  },
  {
   "cell_type": "code",
   "execution_count": 4,
   "metadata": {
    "collapsed": false
   },
   "outputs": [
    {
     "data": {
      "text/html": [
       "<div>\n",
       "<table border=\"1\" class=\"dataframe\">\n",
       "  <thead>\n",
       "    <tr style=\"text-align: right;\">\n",
       "      <th></th>\n",
       "      <th>CL_100smgN/m2/yr</th>\n",
       "    </tr>\n",
       "    <tr>\n",
       "      <th>NORUTcode</th>\n",
       "      <th></th>\n",
       "    </tr>\n",
       "  </thead>\n",
       "  <tbody>\n",
       "    <tr>\n",
       "      <th>1</th>\n",
       "      <td>5</td>\n",
       "    </tr>\n",
       "    <tr>\n",
       "      <th>2</th>\n",
       "      <td>5</td>\n",
       "    </tr>\n",
       "    <tr>\n",
       "      <th>3</th>\n",
       "      <td>5</td>\n",
       "    </tr>\n",
       "    <tr>\n",
       "      <th>4</th>\n",
       "      <td>10</td>\n",
       "    </tr>\n",
       "    <tr>\n",
       "      <th>5</th>\n",
       "      <td>10</td>\n",
       "    </tr>\n",
       "  </tbody>\n",
       "</table>\n",
       "</div>"
      ],
      "text/plain": [
       "           CL_100smgN/m2/yr\n",
       "NORUTcode                  \n",
       "1                         5\n",
       "2                         5\n",
       "3                         5\n",
       "4                        10\n",
       "5                        10"
      ]
     },
     "execution_count": 4,
     "metadata": {},
     "output_type": "execute_result"
    }
   ],
   "source": [
    "# Read lookup table\n",
    "in_xlsx = (r'C:\\Data\\James_Work\\Staff\\Kari_A\\Critical_Loads\\vegetation'\n",
    "           r'\\sat_veg_land_use_classes.xlsx')\n",
    "df = pd.read_excel(in_xlsx, sheetname='EUNIS_tilGIS', index_col=0)\n",
    "\n",
    "df = df[['CL_100smgN/m2/yr']].round(0).astype(int)\n",
    "\n",
    "df.head()"
   ]
  },
  {
   "cell_type": "markdown",
   "metadata": {},
   "source": [
    "### 1.3. Reclassify"
   ]
  },
  {
   "cell_type": "code",
   "execution_count": 5,
   "metadata": {
    "collapsed": true
   },
   "outputs": [],
   "source": [
    "# Input national veg map\n",
    "in_tif = (r'C:\\Data\\James_Work\\Staff\\Kari_A\\Critical_Loads'\n",
    "          r'\\GIS\\Raster\\sat_veg_30m_all.tif')\n",
    "\n",
    "# Output geotiff for critical loads values\n",
    "out_tif = (r'C:\\Data\\James_Work\\Staff\\Kari_A\\Critical_Loads'\n",
    "           r'\\GIS\\Raster\\sat_veg_30m_cr_lds_div100.tif')\n",
    "\n",
    "# Mask raster for land defined by BLR\n",
    "mask_tif = (r'C:\\Data\\James_Work\\Staff\\Kari_A\\Critical_Loads'\n",
    "            r'\\GIS\\Raster\\blr_land_mask.tif')\n",
    "\n",
    "# Reclassify\n",
    "cl.reclassify_raster(in_tif, mask_tif, out_tif, df, 'CL_100smgN/m2/yr', 255)"
   ]
  },
  {
   "cell_type": "markdown",
   "metadata": {},
   "source": [
    "### 1.4. Get deposition data from database\n",
    "\n",
    "**Note:** Remember to add the new `dep_series_id` to the query below, as well as a new name in `df.columns`."
   ]
  },
  {
   "cell_type": "code",
   "execution_count": 6,
   "metadata": {
    "collapsed": false
   },
   "outputs": [
    {
     "name": "stdout",
     "output_type": "stream",
     "text": [
      "69.8 2252.72\n"
     ]
    },
    {
     "data": {
      "text/html": [
       "<div>\n",
       "<table border=\"1\" class=\"dataframe\">\n",
       "  <thead>\n",
       "    <tr style=\"text-align: right;\">\n",
       "      <th></th>\n",
       "      <th>Ndep78_82</th>\n",
       "      <th>Ndep92_96</th>\n",
       "      <th>Ndep97_01</th>\n",
       "      <th>Ndep02_06</th>\n",
       "      <th>Ndep07_11</th>\n",
       "      <th>Ndep12_16</th>\n",
       "    </tr>\n",
       "    <tr>\n",
       "      <th>blr</th>\n",
       "      <th></th>\n",
       "      <th></th>\n",
       "      <th></th>\n",
       "      <th></th>\n",
       "      <th></th>\n",
       "      <th></th>\n",
       "    </tr>\n",
       "  </thead>\n",
       "  <tbody>\n",
       "    <tr>\n",
       "      <th>58006001</th>\n",
       "      <td>1700.00</td>\n",
       "      <td>1771.17</td>\n",
       "      <td>1576.91</td>\n",
       "      <td>NaN</td>\n",
       "      <td>1363.48</td>\n",
       "      <td>1402.38</td>\n",
       "    </tr>\n",
       "    <tr>\n",
       "      <th>58006002</th>\n",
       "      <td>1728.85</td>\n",
       "      <td>1247.05</td>\n",
       "      <td>1149.28</td>\n",
       "      <td>1192.63</td>\n",
       "      <td>1383.95</td>\n",
       "      <td>1290.48</td>\n",
       "    </tr>\n",
       "    <tr>\n",
       "      <th>58006003</th>\n",
       "      <td>1217.42</td>\n",
       "      <td>1171.20</td>\n",
       "      <td>1059.42</td>\n",
       "      <td>1157.39</td>\n",
       "      <td>1203.15</td>\n",
       "      <td>1128.59</td>\n",
       "    </tr>\n",
       "    <tr>\n",
       "      <th>58006004</th>\n",
       "      <td>1392.29</td>\n",
       "      <td>1310.32</td>\n",
       "      <td>1425.35</td>\n",
       "      <td>1302.15</td>\n",
       "      <td>1112.38</td>\n",
       "      <td>1095.33</td>\n",
       "    </tr>\n",
       "    <tr>\n",
       "      <th>58006005</th>\n",
       "      <td>1293.28</td>\n",
       "      <td>1302.73</td>\n",
       "      <td>1255.17</td>\n",
       "      <td>1037.57</td>\n",
       "      <td>1184.53</td>\n",
       "      <td>1147.69</td>\n",
       "    </tr>\n",
       "  </tbody>\n",
       "</table>\n",
       "</div>"
      ],
      "text/plain": [
       "          Ndep78_82  Ndep92_96  Ndep97_01  Ndep02_06  Ndep07_11  Ndep12_16\n",
       "blr                                                                       \n",
       "58006001    1700.00    1771.17    1576.91        NaN    1363.48    1402.38\n",
       "58006002    1728.85    1247.05    1149.28    1192.63    1383.95    1290.48\n",
       "58006003    1217.42    1171.20    1059.42    1157.39    1203.15    1128.59\n",
       "58006004    1392.29    1310.32    1425.35    1302.15    1112.38    1095.33\n",
       "58006005    1293.28    1302.73    1255.17    1037.57    1184.53    1147.69"
      ]
     },
     "execution_count": 6,
     "metadata": {},
     "output_type": "execute_result"
    }
   ],
   "source": [
    "# Get all dep values\n",
    "sql = (\"SELECT blr, dep_series_id as series, value as dep \"\n",
    "       \"FROM resa2.dep_blr_values \"\n",
    "       \"WHERE parameter_id IN (1, 2) \"\n",
    "       \"AND dep_series_id IN (1, 2, 3, 4, 25, 26)\")\n",
    "\n",
    "df = pd.read_sql(sql, engine)\n",
    "\n",
    "# Sum N_oks and N_red\n",
    "df = df.groupby(['blr', 'series']).sum()\n",
    "\n",
    "# Reshape and tidy\n",
    "df = df.unstack()\n",
    "df.columns = df.columns.get_level_values(1)\n",
    "df.columns.name = ''\n",
    "df.columns = ['Ndep78_82', 'Ndep92_96', 'Ndep97_01', 'Ndep02_06', \n",
    "              'Ndep07_11', 'Ndep12_16']\n",
    "\n",
    "print np.nanmin(df.values), np.nanmax(df.values)\n",
    "\n",
    "df.head()"
   ]
  },
  {
   "cell_type": "markdown",
   "metadata": {},
   "source": [
    "### 1.5. Loop over datasets"
   ]
  },
  {
   "cell_type": "code",
   "execution_count": 7,
   "metadata": {
    "collapsed": false
   },
   "outputs": [
    {
     "name": "stdout",
     "output_type": "stream",
     "text": [
      "Processing: Ndep78_82\n",
      "    Building deposition shapefile...\n",
      "    Rasterising shapefile...\n",
      "    Calculating exceedance..."
     ]
    },
    {
     "name": "stderr",
     "output_type": "stream",
     "text": [
      "C:\\Data\\WinPython-64bit-2.7.10.3\\python-2.7.10.amd64\\lib\\site-packages\\ipykernel\\__main__.py:78: RuntimeWarning: invalid value encountered in greater\n",
      "C:\\Data\\WinPython-64bit-2.7.10.3\\python-2.7.10.amd64\\lib\\site-packages\\ipykernel\\__main__.py:81: RuntimeWarning: invalid value encountered in less\n"
     ]
    },
    {
     "name": "stdout",
     "output_type": "stream",
     "text": [
      "\n",
      "    Saving exceedance grid...\n",
      "    Done.\n",
      "Processing: Ndep92_96\n",
      "    Building deposition shapefile...\n",
      "    Rasterising shapefile...\n",
      "    Calculating exceedance...\n",
      "    Saving exceedance grid...\n",
      "    Done.\n",
      "Processing: Ndep97_01\n",
      "    Building deposition shapefile...\n",
      "    Rasterising shapefile...\n",
      "    Calculating exceedance...\n",
      "    Saving exceedance grid...\n",
      "    Done.\n",
      "Processing: Ndep02_06\n",
      "    Building deposition shapefile...\n",
      "    Rasterising shapefile...\n",
      "    Calculating exceedance...\n",
      "    Saving exceedance grid...\n",
      "    Done.\n",
      "Processing: Ndep07_11\n",
      "    Building deposition shapefile...\n",
      "    Rasterising shapefile...\n",
      "    Calculating exceedance...\n",
      "    Saving exceedance grid...\n",
      "    Done.\n",
      "Processing: Ndep12_16\n",
      "    Building deposition shapefile...\n",
      "    Rasterising shapefile...\n",
      "    Calculating exceedance...\n",
      "    Saving exceedance grid...\n",
      "    Done.\n",
      "Finished.\n",
      "Wall time: 14min 10s\n"
     ]
    }
   ],
   "source": [
    "%%time\n",
    "\n",
    "# Path to raw BLR shapefile\n",
    "in_shp = (r'C:\\Data\\James_Work\\Staff\\Kari_A\\Critical_Loads\\GIS'\n",
    "          r'\\Shapefiles\\blrgrid_uten_grums_utm_z33n.shp')\n",
    "\n",
    "# Snap raster\n",
    "snap_tif = (r'C:\\Data\\James_Work\\Staff\\Kari_A\\Critical_Loads'\n",
    "            r'\\GIS\\Raster\\sat_veg_30m_all.tif')\n",
    "\n",
    "# Critical loads raster\n",
    "cl_tif = (r'C:\\Data\\James_Work\\Staff\\Kari_A\\Critical_Loads'\n",
    "          r'\\GIS\\Raster\\sat_veg_30m_cr_lds_div100.tif')\n",
    "\n",
    "# Container for output\n",
    "data_dict = {'series':[],\n",
    "             'nor_area_km2':[],\n",
    "             'ex_area_km2':[]}\n",
    "\n",
    "# Loop over series\n",
    "for ser in df.columns:    \n",
    "    \n",
    "    print 'Processing: %s' % ser\n",
    "    print '    Building deposition shapefile...'\n",
    "    \n",
    "    # Get deposition\n",
    "    dep_df = df[[ser]].dropna(how='any').round(0).astype(int).reset_index()\n",
    "\n",
    "    # Rename cols to match shapefile\n",
    "    dep_df.columns = ['BLR', ser]\n",
    "\n",
    "    # Read shapefile\n",
    "    blr_df = gpd.read_file(in_shp)\n",
    "\n",
    "    # Join and tidy\n",
    "    dep_df = blr_df.merge(dep_df, on='BLR')\n",
    "    del dep_df['area_m2']\n",
    "    \n",
    "    # Write output shapefile\n",
    "    dep_shp = (r'C:\\Data\\James_Work\\Staff\\Kari_A\\Critical_Loads\\GIS'\n",
    "               r'\\Shapefiles\\dep_%s.shp' % ser)\n",
    "    dep_df.to_file(dep_shp)\n",
    "    \n",
    "    # Convert shp to ras\n",
    "    print '    Rasterising shapefile...'\n",
    "    \n",
    "    # Output BLR raster\n",
    "    dep_tif = (r'C:\\Data\\James_Work\\Staff\\Kari_A\\Critical_Loads'\n",
    "               r'\\GIS\\Raster\\dep_%s_30m.tif' % ser)\n",
    "\n",
    "    cl.vec_to_ras(dep_shp, dep_tif, snap_tif, ser, -1, gdal.GDT_Int16)\n",
    "    \n",
    "    # Exceedance\n",
    "    print '    Calculating exceedance...'\n",
    "    \n",
    "    # Read grids\n",
    "    cl_grid, cl_ndv = cl.read_geotiff(cl_tif)\n",
    "    dep_grid, dep_ndv = cl.read_geotiff(dep_tif)\n",
    "\n",
    "    # Upcast to float32 for safe handling of negative values\n",
    "    cl_grid = cl_grid.astype(np.float32)\n",
    "    dep_grid = dep_grid.astype(np.float32)\n",
    "   \n",
    "    # Set ndv\n",
    "    cl_grid[cl_grid==cl_ndv] = np.nan\n",
    "    dep_grid[dep_grid==dep_ndv] = np.nan\n",
    "\n",
    "    # Get total area of non-NaN from dep grid\n",
    "    nor_area = np.count_nonzero(~np.isnan(dep_grid))*30.*30./1.E6\n",
    "\n",
    "    # Apply scaling factor to CLs\n",
    "    cl_grid = cl_grid*100.\n",
    "\n",
    "    # Exceedance\n",
    "    ex_grid = dep_grid - cl_grid\n",
    "    del dep_grid, cl_grid  \n",
    "    \n",
    "    # Get total area exceeded\n",
    "    ex_area = np.count_nonzero(ex_grid > 0)*30.*30./1.E6\n",
    "\n",
    "    # Set <0 to 0\n",
    "    ex_grid[ex_grid<0] = 0\n",
    "    \n",
    "    # Reset ndv\n",
    "    ex_grid[np.isnan(ex_grid)] = -1\n",
    "\n",
    "    # Downcast to int16 to save space\n",
    "    ex_grid = ex_grid.round(0).astype(np.int16)\n",
    "    \n",
    "    # Append results\n",
    "    data_dict['series'].append(ser)\n",
    "    data_dict['nor_area_km2'].append(nor_area)\n",
    "    data_dict['ex_area_km2'].append(ex_area)\n",
    "    \n",
    "    # Write output\n",
    "    print '    Saving exceedance grid...'\n",
    "    ex_tif = (r'C:\\Data\\James_Work\\Staff\\Kari_A\\Critical_Loads'\n",
    "              r'\\GIS\\Raster\\exceed_%s_30m.tif' % ser)\n",
    "    \n",
    "    cl.write_geotiff(ex_grid, ex_tif, snap_tif, -1, gdal.GDT_Int16)\n",
    "    \n",
    "    print '    Done.'\n",
    "\n",
    "# Build output df\n",
    "ex_df = pd.DataFrame(data_dict)\n",
    "ex_df['ex_pct'] = 100 * ex_df['ex_area_km2'] / ex_df['nor_area_km2']\n",
    "ex_df.index = ex_df['series']\n",
    "del ex_df['series']\n",
    "ex_df = ex_df.round(0).astype(int)\n",
    "\n",
    "# Save\n",
    "out_csv = r'C:\\Data\\James_Work\\Staff\\Kari_A\\Critical_Loads\\vegetation\\nor_prop_exceed.csv'\n",
    "ex_df.to_csv(out_csv)\n",
    "\n",
    "print 'Finished.'"
   ]
  },
  {
   "cell_type": "markdown",
   "metadata": {},
   "source": [
    "### 1.6. Print national exceedance summary for vegetation"
   ]
  },
  {
   "cell_type": "code",
   "execution_count": 8,
   "metadata": {
    "collapsed": false
   },
   "outputs": [
    {
     "data": {
      "text/html": [
       "<div>\n",
       "<table border=\"1\" class=\"dataframe\">\n",
       "  <thead>\n",
       "    <tr style=\"text-align: right;\">\n",
       "      <th></th>\n",
       "      <th>ex_area_km2</th>\n",
       "      <th>nor_area_km2</th>\n",
       "      <th>ex_pct</th>\n",
       "    </tr>\n",
       "    <tr>\n",
       "      <th>series</th>\n",
       "      <th></th>\n",
       "      <th></th>\n",
       "      <th></th>\n",
       "    </tr>\n",
       "  </thead>\n",
       "  <tbody>\n",
       "    <tr>\n",
       "      <th>Ndep78_82</th>\n",
       "      <td>95122</td>\n",
       "      <td>320584</td>\n",
       "      <td>30</td>\n",
       "    </tr>\n",
       "    <tr>\n",
       "      <th>Ndep92_96</th>\n",
       "      <td>71470</td>\n",
       "      <td>320584</td>\n",
       "      <td>22</td>\n",
       "    </tr>\n",
       "    <tr>\n",
       "      <th>Ndep97_01</th>\n",
       "      <td>69485</td>\n",
       "      <td>320584</td>\n",
       "      <td>22</td>\n",
       "    </tr>\n",
       "    <tr>\n",
       "      <th>Ndep02_06</th>\n",
       "      <td>71065</td>\n",
       "      <td>320390</td>\n",
       "      <td>22</td>\n",
       "    </tr>\n",
       "    <tr>\n",
       "      <th>Ndep07_11</th>\n",
       "      <td>68475</td>\n",
       "      <td>320584</td>\n",
       "      <td>21</td>\n",
       "    </tr>\n",
       "    <tr>\n",
       "      <th>Ndep12_16</th>\n",
       "      <td>96409</td>\n",
       "      <td>320584</td>\n",
       "      <td>30</td>\n",
       "    </tr>\n",
       "  </tbody>\n",
       "</table>\n",
       "</div>"
      ],
      "text/plain": [
       "           ex_area_km2  nor_area_km2  ex_pct\n",
       "series                                      \n",
       "Ndep78_82        95122        320584      30\n",
       "Ndep92_96        71470        320584      22\n",
       "Ndep97_01        69485        320584      22\n",
       "Ndep02_06        71065        320390      22\n",
       "Ndep07_11        68475        320584      21\n",
       "Ndep12_16        96409        320584      30"
      ]
     },
     "execution_count": 8,
     "metadata": {},
     "output_type": "execute_result"
    }
   ],
   "source": [
    "# Exceedance summary\n",
    "ex_df"
   ]
  }
 ],
 "metadata": {
  "kernelspec": {
   "display_name": "Python 2",
   "language": "python",
   "name": "python2"
  },
  "language_info": {
   "codemirror_mode": {
    "name": "ipython",
    "version": 2
   },
   "file_extension": ".py",
   "mimetype": "text/x-python",
   "name": "python",
   "nbconvert_exporter": "python",
   "pygments_lexer": "ipython2",
   "version": "2.7.10"
  }
 },
 "nbformat": 4,
 "nbformat_minor": 0
}
