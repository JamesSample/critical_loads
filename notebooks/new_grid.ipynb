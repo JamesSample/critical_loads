{
 "cells": [
  {
   "cell_type": "code",
   "execution_count": 1,
   "metadata": {
    "collapsed": true
   },
   "outputs": [],
   "source": [
    "%matplotlib notebook\n",
    "import pandas as pd\n",
    "import geopandas as gpd\n",
    "import glob\n",
    "import os\n",
    "import nivapy\n",
    "from shapely.geometry import Point, Polygon"
   ]
  },
  {
   "cell_type": "code",
   "execution_count": 2,
   "metadata": {
    "collapsed": false
   },
   "outputs": [
    {
     "name": "stdout",
     "output_type": "stream",
     "text": [
      "Username: ········\n",
      "Password: ········\n",
      "Connection successful.\n"
     ]
    }
   ],
   "source": [
    "# Connect to RESA\n",
    "ora_eng = nivapy.da.connect(src='nivabase')"
   ]
  },
  {
   "cell_type": "code",
   "execution_count": 3,
   "metadata": {
    "collapsed": false
   },
   "outputs": [
    {
     "name": "stdout",
     "output_type": "stream",
     "text": [
      "Username: ········\n",
      "Password: ········\n",
      "Connection successful.\n"
     ]
    }
   ],
   "source": [
    "# Connect to spatial db\n",
    "pg_eng = nivapy.da.connect(src='postgres')"
   ]
  },
  {
   "cell_type": "markdown",
   "metadata": {},
   "source": [
    "# Critical Loads: new grid\n",
    "\n",
    "The latest NILU deposition data for the Critical Loads work uses a finer resolution grid than has been supplied previously. For most of the work so far we have continued to use the coarser BLR grid, but Kari would like to switch to the higher resolution grid in the future. This notebook explores the new data and, especially, the new 0.1 degree grid.\n",
    "\n",
    "## 1. Read high resolution data"
   ]
  },
  {
   "cell_type": "code",
   "execution_count": 4,
   "metadata": {
    "collapsed": false
   },
   "outputs": [
    {
     "data": {
      "text/html": [
       "<div>\n",
       "<table border=\"1\" class=\"dataframe\">\n",
       "  <thead>\n",
       "    <tr style=\"text-align: right;\">\n",
       "      <th></th>\n",
       "      <th>lat</th>\n",
       "      <th>lon</th>\n",
       "      <th>tot_nhx</th>\n",
       "      <th>tot_nox</th>\n",
       "      <th>tot_n</th>\n",
       "      <th>tot_s</th>\n",
       "    </tr>\n",
       "  </thead>\n",
       "  <tbody>\n",
       "    <tr>\n",
       "      <th>0</th>\n",
       "      <td>50.05</td>\n",
       "      <td>3.05</td>\n",
       "      <td>270.87</td>\n",
       "      <td>226.36</td>\n",
       "      <td>497.23</td>\n",
       "      <td>118.59</td>\n",
       "    </tr>\n",
       "    <tr>\n",
       "      <th>1</th>\n",
       "      <td>50.05</td>\n",
       "      <td>3.15</td>\n",
       "      <td>240.50</td>\n",
       "      <td>214.75</td>\n",
       "      <td>455.25</td>\n",
       "      <td>114.76</td>\n",
       "    </tr>\n",
       "    <tr>\n",
       "      <th>2</th>\n",
       "      <td>50.05</td>\n",
       "      <td>3.25</td>\n",
       "      <td>259.19</td>\n",
       "      <td>214.43</td>\n",
       "      <td>473.62</td>\n",
       "      <td>122.13</td>\n",
       "    </tr>\n",
       "    <tr>\n",
       "      <th>3</th>\n",
       "      <td>50.05</td>\n",
       "      <td>3.35</td>\n",
       "      <td>252.06</td>\n",
       "      <td>219.67</td>\n",
       "      <td>471.73</td>\n",
       "      <td>108.88</td>\n",
       "    </tr>\n",
       "    <tr>\n",
       "      <th>4</th>\n",
       "      <td>50.05</td>\n",
       "      <td>3.45</td>\n",
       "      <td>332.82</td>\n",
       "      <td>241.87</td>\n",
       "      <td>574.69</td>\n",
       "      <td>126.64</td>\n",
       "    </tr>\n",
       "  </tbody>\n",
       "</table>\n",
       "</div>"
      ],
      "text/plain": [
       "     lat   lon  tot_nhx  tot_nox   tot_n   tot_s\n",
       "0  50.05  3.05   270.87   226.36  497.23  118.59\n",
       "1  50.05  3.15   240.50   214.75  455.25  114.76\n",
       "2  50.05  3.25   259.19   214.43  473.62  122.13\n",
       "3  50.05  3.35   252.06   219.67  471.73  108.88\n",
       "4  50.05  3.45   332.82   241.87  574.69  126.64"
      ]
     },
     "execution_count": 4,
     "metadata": {},
     "output_type": "execute_result"
    }
   ],
   "source": [
    "# Read NILU data\n",
    "data_fold = r'C:\\Data\\James_Work\\Staff\\Kari_A\\Critical_Loads\\raw_data'\n",
    "search_path = os.path.join(data_fold, '*.dat')\n",
    "file_list = glob.glob(search_path)\n",
    "\n",
    "df_list = []\n",
    "for fpath in file_list:\n",
    "    # Get par name\n",
    "    name = os.path.split(fpath)[1].split('_')[:2]\n",
    "    name = '_'.join(name)\n",
    "    \n",
    "    # Read file\n",
    "    df = pd.read_csv(fpath, delim_whitespace=True, header=None,\n",
    "                     names=['lat', 'lon', name])\n",
    "    df.set_index(['lat', 'lon'], inplace=True)    \n",
    "    df_list.append(df)\n",
    "\n",
    "# Combine\n",
    "df = pd.concat(df_list, axis=1)\n",
    "df.reset_index(inplace=True)\n",
    "\n",
    "df.head()"
   ]
  },
  {
   "cell_type": "markdown",
   "metadata": {},
   "source": [
    "## 2. Grid definition\n",
    "\n",
    "The original BLR grid has a resolution of 0.125 degrees in the N-S direction and 0.25 degrees in the E-W direction. One option is therefore to calculate a new grid from the 0.1 degree data and then use this in exactly the same way as the BLR grid (after calculating the cell areas using any \"equal area\" projection). The advantage of this approach is that it can be substituted easily into the existing workflow. The downside is that using an irregular vector dataset to represent a grid is inefficient: a raster in an appropriate projected co-ordinate system would be better.\n",
    "\n",
    "To save time, it is probably easier to continue with the vector workflow for this year, but it's worth **discussing the raster option with Kari**.\n",
    "\n",
    "### 2.1. Build vector grid"
   ]
  },
  {
   "cell_type": "code",
   "execution_count": 5,
   "metadata": {
    "collapsed": false
   },
   "outputs": [
    {
     "data": {
      "text/html": [
       "<div>\n",
       "<table border=\"1\" class=\"dataframe\">\n",
       "  <thead>\n",
       "    <tr style=\"text-align: right;\">\n",
       "      <th></th>\n",
       "      <th>lat</th>\n",
       "      <th>lon</th>\n",
       "      <th>tot_nhx</th>\n",
       "      <th>tot_nox</th>\n",
       "      <th>tot_n</th>\n",
       "      <th>tot_s</th>\n",
       "      <th>geometry</th>\n",
       "    </tr>\n",
       "  </thead>\n",
       "  <tbody>\n",
       "    <tr>\n",
       "      <th>0</th>\n",
       "      <td>50.05</td>\n",
       "      <td>3.05</td>\n",
       "      <td>270.87</td>\n",
       "      <td>226.36</td>\n",
       "      <td>497.23</td>\n",
       "      <td>118.59</td>\n",
       "      <td>POLYGON ((3 50, 3 50.09999999999999, 3.1 50.09...</td>\n",
       "    </tr>\n",
       "    <tr>\n",
       "      <th>1</th>\n",
       "      <td>50.05</td>\n",
       "      <td>3.15</td>\n",
       "      <td>240.50</td>\n",
       "      <td>214.75</td>\n",
       "      <td>455.25</td>\n",
       "      <td>114.76</td>\n",
       "      <td>POLYGON ((3.1 50, 3.1 50.09999999999999, 3.2 5...</td>\n",
       "    </tr>\n",
       "    <tr>\n",
       "      <th>2</th>\n",
       "      <td>50.05</td>\n",
       "      <td>3.25</td>\n",
       "      <td>259.19</td>\n",
       "      <td>214.43</td>\n",
       "      <td>473.62</td>\n",
       "      <td>122.13</td>\n",
       "      <td>POLYGON ((3.2 50, 3.2 50.09999999999999, 3.3 5...</td>\n",
       "    </tr>\n",
       "    <tr>\n",
       "      <th>3</th>\n",
       "      <td>50.05</td>\n",
       "      <td>3.35</td>\n",
       "      <td>252.06</td>\n",
       "      <td>219.67</td>\n",
       "      <td>471.73</td>\n",
       "      <td>108.88</td>\n",
       "      <td>POLYGON ((3.3 50, 3.3 50.09999999999999, 3.4 5...</td>\n",
       "    </tr>\n",
       "    <tr>\n",
       "      <th>4</th>\n",
       "      <td>50.05</td>\n",
       "      <td>3.45</td>\n",
       "      <td>332.82</td>\n",
       "      <td>241.87</td>\n",
       "      <td>574.69</td>\n",
       "      <td>126.64</td>\n",
       "      <td>POLYGON ((3.4 50, 3.4 50.09999999999999, 3.5 5...</td>\n",
       "    </tr>\n",
       "  </tbody>\n",
       "</table>\n",
       "</div>"
      ],
      "text/plain": [
       "     lat   lon  tot_nhx  tot_nox   tot_n   tot_s  \\\n",
       "0  50.05  3.05   270.87   226.36  497.23  118.59   \n",
       "1  50.05  3.15   240.50   214.75  455.25  114.76   \n",
       "2  50.05  3.25   259.19   214.43  473.62  122.13   \n",
       "3  50.05  3.35   252.06   219.67  471.73  108.88   \n",
       "4  50.05  3.45   332.82   241.87  574.69  126.64   \n",
       "\n",
       "                                            geometry  \n",
       "0  POLYGON ((3 50, 3 50.09999999999999, 3.1 50.09...  \n",
       "1  POLYGON ((3.1 50, 3.1 50.09999999999999, 3.2 5...  \n",
       "2  POLYGON ((3.2 50, 3.2 50.09999999999999, 3.3 5...  \n",
       "3  POLYGON ((3.3 50, 3.3 50.09999999999999, 3.4 5...  \n",
       "4  POLYGON ((3.4 50, 3.4 50.09999999999999, 3.5 5...  "
      ]
     },
     "execution_count": 5,
     "metadata": {},
     "output_type": "execute_result"
    }
   ],
   "source": [
    "def build_poly(row, res=0.1):\n",
    "    \"\"\" Builds a vector grid of polygons with a resolution of \"res\"\n",
    "        decimal degrees from a set of points specifying cell centres.\n",
    "    \"\"\"\n",
    "    from shapely.geometry import Polygon\n",
    "    \n",
    "    # Get shift = half of res\n",
    "    sft = res / 2.\n",
    "    \n",
    "    # Get centre co-ords\n",
    "    x, y = row['lon'], row['lat']\n",
    "    \n",
    "    # Build polygon\n",
    "    cords = [(x-sft, y-sft), (x-sft, y+sft), \n",
    "             (x+sft, y+sft), (x+sft, y-sft),\n",
    "             (x-sft, y-sft)]\n",
    "    poly = Polygon(cords)\n",
    "    \n",
    "    return poly\n",
    "\n",
    "# Build vector grid\n",
    "df['geometry'] = df.apply(build_poly, axis=1)\n",
    "\n",
    "# Convert to geo df\n",
    "crs = {'init': 'epsg:4326'}\n",
    "gdf = gpd.GeoDataFrame(df, crs=crs, geometry='geometry')\n",
    "\n",
    "# Save shp\n",
    "out_shp = (r'C:\\Data\\James_Work\\Staff\\Kari_A\\Critical_Loads\\GIS'\n",
    "           r'\\Shapefiles\\crit_lds_0_1deg_grid.shp')\n",
    "gdf.to_file(driver='ESRI Shapefile', filename=out_shp)\n",
    "\n",
    "gdf.head()"
   ]
  },
  {
   "cell_type": "markdown",
   "metadata": {},
   "source": [
    "### 2.2. Clip to coastline\n",
    "\n",
    "The BLR grid is clipped to the Norwegian coastline, so many of the cells are actually complex polygons. The new deposition dataset extends well beyond Norway, so to keep data sizes manageable (and to stay close to the previous methodology), it is necessary to \"clip\" the new dataset in a similar way.\n",
    "\n",
    "This is most easily done using `Dissolve` followed by `Clip` in ArcGIS. Since the operation only needs to be done once, it does not need to be scripted. The output file from this is *crit_lds_0_1deg_grid_clip.shp*.\n",
    "\n",
    "### 2.3. Calculate areas\n",
    "\n",
    "It is not possible to get accurate area calculations in a geographic (lat/lon) co-ordinate system. Instead, I will temporarily re-project the data to an equal area projection, calculate the cell areas, and then join the results back to the original data in WGS84 geographic co-ordinates.\n",
    "\n",
    "I will also create a unique ID for each cell, by combining the lat and lon co-ordinates (multipled by 100 and padded to 4 digits)."
   ]
  },
  {
   "cell_type": "code",
   "execution_count": 6,
   "metadata": {
    "collapsed": false
   },
   "outputs": [
    {
     "data": {
      "text/html": [
       "<div>\n",
       "<table border=\"1\" class=\"dataframe\">\n",
       "  <thead>\n",
       "    <tr style=\"text-align: right;\">\n",
       "      <th></th>\n",
       "      <th>lat</th>\n",
       "      <th>lon</th>\n",
       "      <th>cell_id</th>\n",
       "      <th>area_m2</th>\n",
       "      <th>geometry</th>\n",
       "    </tr>\n",
       "  </thead>\n",
       "  <tbody>\n",
       "    <tr>\n",
       "      <th>0</th>\n",
       "      <td>62.05</td>\n",
       "      <td>6.75</td>\n",
       "      <td>62050675</td>\n",
       "      <td>5.830022e+07</td>\n",
       "      <td>POLYGON ((6.799999999999995 61.99999999999997,...</td>\n",
       "    </tr>\n",
       "    <tr>\n",
       "      <th>1</th>\n",
       "      <td>67.95</td>\n",
       "      <td>16.55</td>\n",
       "      <td>67951655</td>\n",
       "      <td>4.507216e+07</td>\n",
       "      <td>POLYGON ((16.59999999999998 68.00000000000003,...</td>\n",
       "    </tr>\n",
       "    <tr>\n",
       "      <th>2</th>\n",
       "      <td>60.35</td>\n",
       "      <td>5.95</td>\n",
       "      <td>60350595</td>\n",
       "      <td>6.151349e+07</td>\n",
       "      <td>POLYGON ((5.999999999999995 60.30000000000003,...</td>\n",
       "    </tr>\n",
       "    <tr>\n",
       "      <th>3</th>\n",
       "      <td>59.35</td>\n",
       "      <td>6.35</td>\n",
       "      <td>59350635</td>\n",
       "      <td>5.808014e+07</td>\n",
       "      <td>(POLYGON ((6.400000000000039 59.30404746914273...</td>\n",
       "    </tr>\n",
       "    <tr>\n",
       "      <th>4</th>\n",
       "      <td>69.85</td>\n",
       "      <td>28.55</td>\n",
       "      <td>69842855</td>\n",
       "      <td>4.287583e+07</td>\n",
       "      <td>POLYGON ((28.59999999999999 69.8, 28.509245922...</td>\n",
       "    </tr>\n",
       "  </tbody>\n",
       "</table>\n",
       "</div>"
      ],
      "text/plain": [
       "     lat    lon   cell_id       area_m2  \\\n",
       "0  62.05   6.75  62050675  5.830022e+07   \n",
       "1  67.95  16.55  67951655  4.507216e+07   \n",
       "2  60.35   5.95  60350595  6.151349e+07   \n",
       "3  59.35   6.35  59350635  5.808014e+07   \n",
       "4  69.85  28.55  69842855  4.287583e+07   \n",
       "\n",
       "                                            geometry  \n",
       "0  POLYGON ((6.799999999999995 61.99999999999997,...  \n",
       "1  POLYGON ((16.59999999999998 68.00000000000003,...  \n",
       "2  POLYGON ((5.999999999999995 60.30000000000003,...  \n",
       "3  (POLYGON ((6.400000000000039 59.30404746914273...  \n",
       "4  POLYGON ((28.59999999999999 69.8, 28.509245922...  "
      ]
     },
     "execution_count": 6,
     "metadata": {},
     "output_type": "execute_result"
    }
   ],
   "source": [
    "# Read clipped data\n",
    "shp_path = (r'C:\\Data\\James_Work\\Staff\\Kari_A\\Critical_Loads\\GIS'\n",
    "            r'\\Shapefiles\\crit_lds_0_1deg_grid_clip.shp')\n",
    "gdf = gpd.read_file(shp_path)\n",
    "\n",
    "# Calculate unique integer cell ID as latlon \n",
    "# (both *100 and padded to 4 digits)\n",
    "gdf['cell_id'] = ((gdf['lat']*100).astype(int).map('{:04d}'.format) + \n",
    "                  (gdf['lon']*100).astype(int).map('{:04d}'.format))\n",
    "gdf['cell_id'] = gdf['cell_id'].astype(int)\n",
    "assert gdf['cell_id'].is_unique\n",
    "\n",
    "# Project to Equal Area Cylindrical\n",
    "gdf2 = gdf.to_crs({'proj':'cea'})\n",
    "\n",
    "# Calc area in m2\n",
    "gdf2['area_m2'] = gdf2['geometry'].area\n",
    "\n",
    "# Add areas to original GDF\n",
    "gdf['area_m2'] = gdf2['area_m2']\n",
    "\n",
    "# Save\n",
    "gdf.to_file(driver='ESRI Shapefile', filename=shp_path)\n",
    "\n",
    "gdf.head()"
   ]
  },
  {
   "cell_type": "markdown",
   "metadata": {
    "collapsed": false
   },
   "source": [
    "## 3. Add to databases\n",
    "\n",
    "This geodataframe is the new equivalent of the old BLR grid. It can therefore be stored in the RESA2 database in the same way. As this is a spatial dataset, it also seems sensible to store it in the new spatial database.\n",
    "\n",
    "### 3.1. Add to PostGIS"
   ]
  },
  {
   "cell_type": "code",
   "execution_count": 7,
   "metadata": {
    "collapsed": false
   },
   "outputs": [
    {
     "name": "stdout",
     "output_type": "stream",
     "text": [
      "WARNING! The dataframe contains mixed geometries:\n",
      "  set(['Polygon', 'MultiPolygon'])\n",
      "These will be cast to \"Multi\" type. If this is not what you want, consider using gdf.explode() first\n"
     ]
    },
    {
     "name": "stderr",
     "output_type": "stream",
     "text": [
      "C:\\Data\\Anaconda2\\lib\\site-packages\\sqlalchemy\\dialects\\postgresql\\base.py:2543: SAWarning: Did not recognize type 'geometry' of column 'geom'\n",
      "  (attype, name))\n"
     ]
    }
   ],
   "source": [
    "# Reorder cols\n",
    "gdf = gdf[['geometry', 'cell_id', 'lat', 'lon', 'area_m2']]\n",
    "\n",
    "# Write to db\n",
    "nivapy.da.gdf_to_postgis(gdf, 'dep_grid_0_1deg', pg_eng, \n",
    "                         'public_dep_grid_0_1deg',\n",
    "                         schema='public', if_exists='replace',\n",
    "                         index=False)"
   ]
  },
  {
   "cell_type": "markdown",
   "metadata": {},
   "source": [
    "### 3.2. Add to RESA2"
   ]
  },
  {
   "cell_type": "code",
   "execution_count": 8,
   "metadata": {
    "collapsed": false
   },
   "outputs": [],
   "source": [
    "# Remove spatial info\n",
    "df = pd.DataFrame(gdf)\n",
    "del gdf['geometry']\n",
    "\n",
    "# Write to db\n",
    "df.to_sql('dep_grid_0_1deg', ora_eng, schema='resa2', \n",
    "          if_exists='replace', index=False)"
   ]
  }
 ],
 "metadata": {
  "kernelspec": {
   "display_name": "Python 2",
   "language": "python",
   "name": "python2"
  },
  "language_info": {
   "codemirror_mode": {
    "name": "ipython",
    "version": 2
   },
   "file_extension": ".py",
   "mimetype": "text/x-python",
   "name": "python",
   "nbconvert_exporter": "python",
   "pygments_lexer": "ipython2",
   "version": "2.7.13"
  }
 },
 "nbformat": 4,
 "nbformat_minor": 2
}
